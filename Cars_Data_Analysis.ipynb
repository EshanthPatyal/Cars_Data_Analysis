{
  "nbformat": 4,
  "nbformat_minor": 0,
  "metadata": {
    "colab": {
      "name": "GDSC.ipynb",
      "provenance": [],
      "collapsed_sections": []
    },
    "kernelspec": {
      "name": "python3",
      "display_name": "Python 3"
    },
    "language_info": {
      "name": "python"
    }
  },
  "cells": [
    {
      "cell_type": "code",
      "execution_count": 133,
      "metadata": {
        "id": "j_tFSveva-3i"
      },
      "outputs": [],
      "source": [
        "import pandas as pd\n",
        "import numpy as np"
      ]
    },
    {
      "cell_type": "code",
      "source": [
        "from google.colab import files\n",
        " \n",
        " \n",
        "uploaded = files.upload()"
      ],
      "metadata": {
        "colab": {
          "resources": {
            "http://localhost:8080/nbextensions/google.colab/files.js": {
              "data": "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",
              "ok": true,
              "headers": [
                [
                  "content-type",
                  "application/javascript"
                ]
              ],
              "status": 200,
              "status_text": ""
            }
          },
          "base_uri": "https://localhost:8080/",
          "height": 73
        },
        "id": "3zmJV2x6bAGg",
        "outputId": "40294dba-5e87-4cd9-fbfa-795973d62c0a"
      },
      "execution_count": 134,
      "outputs": [
        {
          "output_type": "display_data",
          "data": {
            "text/plain": [
              "<IPython.core.display.HTML object>"
            ],
            "text/html": [
              "\n",
              "     <input type=\"file\" id=\"files-6fa5c918-80ea-4bf5-8493-cd7a9a967132\" name=\"files[]\" multiple disabled\n",
              "        style=\"border:none\" />\n",
              "     <output id=\"result-6fa5c918-80ea-4bf5-8493-cd7a9a967132\">\n",
              "      Upload widget is only available when the cell has been executed in the\n",
              "      current browser session. Please rerun this cell to enable.\n",
              "      </output>\n",
              "      <script src=\"/nbextensions/google.colab/files.js\"></script> "
            ]
          },
          "metadata": {}
        },
        {
          "output_type": "stream",
          "name": "stdout",
          "text": [
            "Saving cars_engage_2022.csv to cars_engage_2022 (1).csv\n"
          ]
        }
      ]
    },
    {
      "cell_type": "code",
      "source": [
        "import io\n",
        "df=pd.read_csv(io.BytesIO(uploaded['cars_engage_2022.csv']))"
      ],
      "metadata": {
        "id": "LgFNVbZXcAWi"
      },
      "execution_count": 135,
      "outputs": []
    },
    {
      "cell_type": "code",
      "source": [
        "df"
      ],
      "metadata": {
        "colab": {
          "base_uri": "https://localhost:8080/",
          "height": 852
        },
        "id": "lwy7RVf0dFrj",
        "outputId": "f2b7ca4b-6e27-49f3-acf5-30244b5313ba"
      },
      "execution_count": 136,
      "outputs": [
        {
          "output_type": "execute_result",
          "data": {
            "text/plain": [
              "      Unnamed: 0        Make      Model        Variant Ex-Showroom_Price  \\\n",
              "0              0        Tata  Nano Genx             Xt      Rs. 2,92,667   \n",
              "1              1        Tata  Nano Genx             Xe      Rs. 2,36,447   \n",
              "2              2        Tata  Nano Genx        Emax Xm      Rs. 2,96,661   \n",
              "3              3        Tata  Nano Genx            Xta      Rs. 3,34,768   \n",
              "4              4        Tata  Nano Genx             Xm      Rs. 2,72,223   \n",
              "...          ...         ...        ...            ...               ...   \n",
              "1271        1271       Honda       City   Vx Mt Diesel     Rs. 13,02,000   \n",
              "1272        1272       Honda       City   Zx Mt Diesel     Rs. 14,21,000   \n",
              "1273        1273       Honda       City  Zx Cvt Petrol     Rs. 14,31,000   \n",
              "1274        1274       Honda       City   V Cvt Petrol     Rs. 12,01,000   \n",
              "1275        1275  Mitsubishi    Montero         3.2 At     Rs. 68,62,560   \n",
              "\n",
              "     Displacement  Cylinders  Valves_Per_Cylinder               Drivetrain  \\\n",
              "0          624 cc        2.0                  2.0   RWD (Rear Wheel Drive)   \n",
              "1          624 cc        2.0                  2.0   RWD (Rear Wheel Drive)   \n",
              "2          624 cc        2.0                  2.0   RWD (Rear Wheel Drive)   \n",
              "3          624 cc        2.0                  2.0   RWD (Rear Wheel Drive)   \n",
              "4          624 cc        2.0                  2.0   RWD (Rear Wheel Drive)   \n",
              "...           ...        ...                  ...                      ...   \n",
              "1271      1498 cc        4.0                  4.0  FWD (Front Wheel Drive)   \n",
              "1272      1498 cc        4.0                  4.0  FWD (Front Wheel Drive)   \n",
              "1273      1497 cc        4.0                  4.0  FWD (Front Wheel Drive)   \n",
              "1274      1497 cc        4.0                  4.0  FWD (Front Wheel Drive)   \n",
              "1275      3200 cc        4.0                  4.0    AWD (All Wheel Drive)   \n",
              "\n",
              "     Cylinder_Configuration  ... Leather_Wrapped_Steering Automatic_Headlamps  \\\n",
              "0                   In-line  ...                      NaN                 NaN   \n",
              "1                   In-line  ...                      NaN                 NaN   \n",
              "2                   In-line  ...                      NaN                 NaN   \n",
              "3                   In-line  ...                      NaN                 NaN   \n",
              "4                   In-line  ...                      NaN                 NaN   \n",
              "...                     ...  ...                      ...                 ...   \n",
              "1271                In-line  ...                      Yes                 NaN   \n",
              "1272                In-line  ...                      Yes                 Yes   \n",
              "1273                In-line  ...                      Yes                 Yes   \n",
              "1274                In-line  ...                      NaN                 NaN   \n",
              "1275                In-line  ...                      Yes                 NaN   \n",
              "\n",
              "     Engine_Type ASR_/_Traction_Control Cruise_Control USB_Ports  \\\n",
              "0            NaN                    NaN            NaN       NaN   \n",
              "1            NaN                    NaN            NaN       NaN   \n",
              "2            NaN                    NaN            NaN       NaN   \n",
              "3            NaN                    NaN            NaN       NaN   \n",
              "4            NaN                    NaN            NaN       NaN   \n",
              "...          ...                    ...            ...       ...   \n",
              "1271         NaN                    NaN            Yes       NaN   \n",
              "1272         NaN                    NaN            Yes       NaN   \n",
              "1273         NaN                    NaN            Yes       NaN   \n",
              "1274         NaN                    NaN            Yes       NaN   \n",
              "1275         NaN                    Yes            Yes       NaN   \n",
              "\n",
              "     Heads-Up_Display Welcome_Lights Battery  Electric_Range  \n",
              "0                 NaN            NaN     NaN             NaN  \n",
              "1                 NaN            NaN     NaN             NaN  \n",
              "2                 NaN            NaN     NaN             NaN  \n",
              "3                 NaN            NaN     NaN             NaN  \n",
              "4                 NaN            NaN     NaN             NaN  \n",
              "...               ...            ...     ...             ...  \n",
              "1271              NaN            NaN     NaN             NaN  \n",
              "1272              NaN            NaN     NaN             NaN  \n",
              "1273              NaN            NaN     NaN             NaN  \n",
              "1274              NaN            NaN     NaN             NaN  \n",
              "1275              NaN            NaN     NaN             NaN  \n",
              "\n",
              "[1276 rows x 141 columns]"
            ],
            "text/html": [
              "\n",
              "  <div id=\"df-c0d94e28-0ac9-401e-8d98-5475ee429ad7\">\n",
              "    <div class=\"colab-df-container\">\n",
              "      <div>\n",
              "<style scoped>\n",
              "    .dataframe tbody tr th:only-of-type {\n",
              "        vertical-align: middle;\n",
              "    }\n",
              "\n",
              "    .dataframe tbody tr th {\n",
              "        vertical-align: top;\n",
              "    }\n",
              "\n",
              "    .dataframe thead th {\n",
              "        text-align: right;\n",
              "    }\n",
              "</style>\n",
              "<table border=\"1\" class=\"dataframe\">\n",
              "  <thead>\n",
              "    <tr style=\"text-align: right;\">\n",
              "      <th></th>\n",
              "      <th>Unnamed: 0</th>\n",
              "      <th>Make</th>\n",
              "      <th>Model</th>\n",
              "      <th>Variant</th>\n",
              "      <th>Ex-Showroom_Price</th>\n",
              "      <th>Displacement</th>\n",
              "      <th>Cylinders</th>\n",
              "      <th>Valves_Per_Cylinder</th>\n",
              "      <th>Drivetrain</th>\n",
              "      <th>Cylinder_Configuration</th>\n",
              "      <th>...</th>\n",
              "      <th>Leather_Wrapped_Steering</th>\n",
              "      <th>Automatic_Headlamps</th>\n",
              "      <th>Engine_Type</th>\n",
              "      <th>ASR_/_Traction_Control</th>\n",
              "      <th>Cruise_Control</th>\n",
              "      <th>USB_Ports</th>\n",
              "      <th>Heads-Up_Display</th>\n",
              "      <th>Welcome_Lights</th>\n",
              "      <th>Battery</th>\n",
              "      <th>Electric_Range</th>\n",
              "    </tr>\n",
              "  </thead>\n",
              "  <tbody>\n",
              "    <tr>\n",
              "      <th>0</th>\n",
              "      <td>0</td>\n",
              "      <td>Tata</td>\n",
              "      <td>Nano Genx</td>\n",
              "      <td>Xt</td>\n",
              "      <td>Rs. 2,92,667</td>\n",
              "      <td>624 cc</td>\n",
              "      <td>2.0</td>\n",
              "      <td>2.0</td>\n",
              "      <td>RWD (Rear Wheel Drive)</td>\n",
              "      <td>In-line</td>\n",
              "      <td>...</td>\n",
              "      <td>NaN</td>\n",
              "      <td>NaN</td>\n",
              "      <td>NaN</td>\n",
              "      <td>NaN</td>\n",
              "      <td>NaN</td>\n",
              "      <td>NaN</td>\n",
              "      <td>NaN</td>\n",
              "      <td>NaN</td>\n",
              "      <td>NaN</td>\n",
              "      <td>NaN</td>\n",
              "    </tr>\n",
              "    <tr>\n",
              "      <th>1</th>\n",
              "      <td>1</td>\n",
              "      <td>Tata</td>\n",
              "      <td>Nano Genx</td>\n",
              "      <td>Xe</td>\n",
              "      <td>Rs. 2,36,447</td>\n",
              "      <td>624 cc</td>\n",
              "      <td>2.0</td>\n",
              "      <td>2.0</td>\n",
              "      <td>RWD (Rear Wheel Drive)</td>\n",
              "      <td>In-line</td>\n",
              "      <td>...</td>\n",
              "      <td>NaN</td>\n",
              "      <td>NaN</td>\n",
              "      <td>NaN</td>\n",
              "      <td>NaN</td>\n",
              "      <td>NaN</td>\n",
              "      <td>NaN</td>\n",
              "      <td>NaN</td>\n",
              "      <td>NaN</td>\n",
              "      <td>NaN</td>\n",
              "      <td>NaN</td>\n",
              "    </tr>\n",
              "    <tr>\n",
              "      <th>2</th>\n",
              "      <td>2</td>\n",
              "      <td>Tata</td>\n",
              "      <td>Nano Genx</td>\n",
              "      <td>Emax Xm</td>\n",
              "      <td>Rs. 2,96,661</td>\n",
              "      <td>624 cc</td>\n",
              "      <td>2.0</td>\n",
              "      <td>2.0</td>\n",
              "      <td>RWD (Rear Wheel Drive)</td>\n",
              "      <td>In-line</td>\n",
              "      <td>...</td>\n",
              "      <td>NaN</td>\n",
              "      <td>NaN</td>\n",
              "      <td>NaN</td>\n",
              "      <td>NaN</td>\n",
              "      <td>NaN</td>\n",
              "      <td>NaN</td>\n",
              "      <td>NaN</td>\n",
              "      <td>NaN</td>\n",
              "      <td>NaN</td>\n",
              "      <td>NaN</td>\n",
              "    </tr>\n",
              "    <tr>\n",
              "      <th>3</th>\n",
              "      <td>3</td>\n",
              "      <td>Tata</td>\n",
              "      <td>Nano Genx</td>\n",
              "      <td>Xta</td>\n",
              "      <td>Rs. 3,34,768</td>\n",
              "      <td>624 cc</td>\n",
              "      <td>2.0</td>\n",
              "      <td>2.0</td>\n",
              "      <td>RWD (Rear Wheel Drive)</td>\n",
              "      <td>In-line</td>\n",
              "      <td>...</td>\n",
              "      <td>NaN</td>\n",
              "      <td>NaN</td>\n",
              "      <td>NaN</td>\n",
              "      <td>NaN</td>\n",
              "      <td>NaN</td>\n",
              "      <td>NaN</td>\n",
              "      <td>NaN</td>\n",
              "      <td>NaN</td>\n",
              "      <td>NaN</td>\n",
              "      <td>NaN</td>\n",
              "    </tr>\n",
              "    <tr>\n",
              "      <th>4</th>\n",
              "      <td>4</td>\n",
              "      <td>Tata</td>\n",
              "      <td>Nano Genx</td>\n",
              "      <td>Xm</td>\n",
              "      <td>Rs. 2,72,223</td>\n",
              "      <td>624 cc</td>\n",
              "      <td>2.0</td>\n",
              "      <td>2.0</td>\n",
              "      <td>RWD (Rear Wheel Drive)</td>\n",
              "      <td>In-line</td>\n",
              "      <td>...</td>\n",
              "      <td>NaN</td>\n",
              "      <td>NaN</td>\n",
              "      <td>NaN</td>\n",
              "      <td>NaN</td>\n",
              "      <td>NaN</td>\n",
              "      <td>NaN</td>\n",
              "      <td>NaN</td>\n",
              "      <td>NaN</td>\n",
              "      <td>NaN</td>\n",
              "      <td>NaN</td>\n",
              "    </tr>\n",
              "    <tr>\n",
              "      <th>...</th>\n",
              "      <td>...</td>\n",
              "      <td>...</td>\n",
              "      <td>...</td>\n",
              "      <td>...</td>\n",
              "      <td>...</td>\n",
              "      <td>...</td>\n",
              "      <td>...</td>\n",
              "      <td>...</td>\n",
              "      <td>...</td>\n",
              "      <td>...</td>\n",
              "      <td>...</td>\n",
              "      <td>...</td>\n",
              "      <td>...</td>\n",
              "      <td>...</td>\n",
              "      <td>...</td>\n",
              "      <td>...</td>\n",
              "      <td>...</td>\n",
              "      <td>...</td>\n",
              "      <td>...</td>\n",
              "      <td>...</td>\n",
              "      <td>...</td>\n",
              "    </tr>\n",
              "    <tr>\n",
              "      <th>1271</th>\n",
              "      <td>1271</td>\n",
              "      <td>Honda</td>\n",
              "      <td>City</td>\n",
              "      <td>Vx Mt Diesel</td>\n",
              "      <td>Rs. 13,02,000</td>\n",
              "      <td>1498 cc</td>\n",
              "      <td>4.0</td>\n",
              "      <td>4.0</td>\n",
              "      <td>FWD (Front Wheel Drive)</td>\n",
              "      <td>In-line</td>\n",
              "      <td>...</td>\n",
              "      <td>Yes</td>\n",
              "      <td>NaN</td>\n",
              "      <td>NaN</td>\n",
              "      <td>NaN</td>\n",
              "      <td>Yes</td>\n",
              "      <td>NaN</td>\n",
              "      <td>NaN</td>\n",
              "      <td>NaN</td>\n",
              "      <td>NaN</td>\n",
              "      <td>NaN</td>\n",
              "    </tr>\n",
              "    <tr>\n",
              "      <th>1272</th>\n",
              "      <td>1272</td>\n",
              "      <td>Honda</td>\n",
              "      <td>City</td>\n",
              "      <td>Zx Mt Diesel</td>\n",
              "      <td>Rs. 14,21,000</td>\n",
              "      <td>1498 cc</td>\n",
              "      <td>4.0</td>\n",
              "      <td>4.0</td>\n",
              "      <td>FWD (Front Wheel Drive)</td>\n",
              "      <td>In-line</td>\n",
              "      <td>...</td>\n",
              "      <td>Yes</td>\n",
              "      <td>Yes</td>\n",
              "      <td>NaN</td>\n",
              "      <td>NaN</td>\n",
              "      <td>Yes</td>\n",
              "      <td>NaN</td>\n",
              "      <td>NaN</td>\n",
              "      <td>NaN</td>\n",
              "      <td>NaN</td>\n",
              "      <td>NaN</td>\n",
              "    </tr>\n",
              "    <tr>\n",
              "      <th>1273</th>\n",
              "      <td>1273</td>\n",
              "      <td>Honda</td>\n",
              "      <td>City</td>\n",
              "      <td>Zx Cvt Petrol</td>\n",
              "      <td>Rs. 14,31,000</td>\n",
              "      <td>1497 cc</td>\n",
              "      <td>4.0</td>\n",
              "      <td>4.0</td>\n",
              "      <td>FWD (Front Wheel Drive)</td>\n",
              "      <td>In-line</td>\n",
              "      <td>...</td>\n",
              "      <td>Yes</td>\n",
              "      <td>Yes</td>\n",
              "      <td>NaN</td>\n",
              "      <td>NaN</td>\n",
              "      <td>Yes</td>\n",
              "      <td>NaN</td>\n",
              "      <td>NaN</td>\n",
              "      <td>NaN</td>\n",
              "      <td>NaN</td>\n",
              "      <td>NaN</td>\n",
              "    </tr>\n",
              "    <tr>\n",
              "      <th>1274</th>\n",
              "      <td>1274</td>\n",
              "      <td>Honda</td>\n",
              "      <td>City</td>\n",
              "      <td>V Cvt Petrol</td>\n",
              "      <td>Rs. 12,01,000</td>\n",
              "      <td>1497 cc</td>\n",
              "      <td>4.0</td>\n",
              "      <td>4.0</td>\n",
              "      <td>FWD (Front Wheel Drive)</td>\n",
              "      <td>In-line</td>\n",
              "      <td>...</td>\n",
              "      <td>NaN</td>\n",
              "      <td>NaN</td>\n",
              "      <td>NaN</td>\n",
              "      <td>NaN</td>\n",
              "      <td>Yes</td>\n",
              "      <td>NaN</td>\n",
              "      <td>NaN</td>\n",
              "      <td>NaN</td>\n",
              "      <td>NaN</td>\n",
              "      <td>NaN</td>\n",
              "    </tr>\n",
              "    <tr>\n",
              "      <th>1275</th>\n",
              "      <td>1275</td>\n",
              "      <td>Mitsubishi</td>\n",
              "      <td>Montero</td>\n",
              "      <td>3.2 At</td>\n",
              "      <td>Rs. 68,62,560</td>\n",
              "      <td>3200 cc</td>\n",
              "      <td>4.0</td>\n",
              "      <td>4.0</td>\n",
              "      <td>AWD (All Wheel Drive)</td>\n",
              "      <td>In-line</td>\n",
              "      <td>...</td>\n",
              "      <td>Yes</td>\n",
              "      <td>NaN</td>\n",
              "      <td>NaN</td>\n",
              "      <td>Yes</td>\n",
              "      <td>Yes</td>\n",
              "      <td>NaN</td>\n",
              "      <td>NaN</td>\n",
              "      <td>NaN</td>\n",
              "      <td>NaN</td>\n",
              "      <td>NaN</td>\n",
              "    </tr>\n",
              "  </tbody>\n",
              "</table>\n",
              "<p>1276 rows × 141 columns</p>\n",
              "</div>\n",
              "      <button class=\"colab-df-convert\" onclick=\"convertToInteractive('df-c0d94e28-0ac9-401e-8d98-5475ee429ad7')\"\n",
              "              title=\"Convert this dataframe to an interactive table.\"\n",
              "              style=\"display:none;\">\n",
              "        \n",
              "  <svg xmlns=\"http://www.w3.org/2000/svg\" height=\"24px\"viewBox=\"0 0 24 24\"\n",
              "       width=\"24px\">\n",
              "    <path d=\"M0 0h24v24H0V0z\" fill=\"none\"/>\n",
              "    <path d=\"M18.56 5.44l.94 2.06.94-2.06 2.06-.94-2.06-.94-.94-2.06-.94 2.06-2.06.94zm-11 1L8.5 8.5l.94-2.06 2.06-.94-2.06-.94L8.5 2.5l-.94 2.06-2.06.94zm10 10l.94 2.06.94-2.06 2.06-.94-2.06-.94-.94-2.06-.94 2.06-2.06.94z\"/><path d=\"M17.41 7.96l-1.37-1.37c-.4-.4-.92-.59-1.43-.59-.52 0-1.04.2-1.43.59L10.3 9.45l-7.72 7.72c-.78.78-.78 2.05 0 2.83L4 21.41c.39.39.9.59 1.41.59.51 0 1.02-.2 1.41-.59l7.78-7.78 2.81-2.81c.8-.78.8-2.07 0-2.86zM5.41 20L4 18.59l7.72-7.72 1.47 1.35L5.41 20z\"/>\n",
              "  </svg>\n",
              "      </button>\n",
              "      \n",
              "  <style>\n",
              "    .colab-df-container {\n",
              "      display:flex;\n",
              "      flex-wrap:wrap;\n",
              "      gap: 12px;\n",
              "    }\n",
              "\n",
              "    .colab-df-convert {\n",
              "      background-color: #E8F0FE;\n",
              "      border: none;\n",
              "      border-radius: 50%;\n",
              "      cursor: pointer;\n",
              "      display: none;\n",
              "      fill: #1967D2;\n",
              "      height: 32px;\n",
              "      padding: 0 0 0 0;\n",
              "      width: 32px;\n",
              "    }\n",
              "\n",
              "    .colab-df-convert:hover {\n",
              "      background-color: #E2EBFA;\n",
              "      box-shadow: 0px 1px 2px rgba(60, 64, 67, 0.3), 0px 1px 3px 1px rgba(60, 64, 67, 0.15);\n",
              "      fill: #174EA6;\n",
              "    }\n",
              "\n",
              "    [theme=dark] .colab-df-convert {\n",
              "      background-color: #3B4455;\n",
              "      fill: #D2E3FC;\n",
              "    }\n",
              "\n",
              "    [theme=dark] .colab-df-convert:hover {\n",
              "      background-color: #434B5C;\n",
              "      box-shadow: 0px 1px 3px 1px rgba(0, 0, 0, 0.15);\n",
              "      filter: drop-shadow(0px 1px 2px rgba(0, 0, 0, 0.3));\n",
              "      fill: #FFFFFF;\n",
              "    }\n",
              "  </style>\n",
              "\n",
              "      <script>\n",
              "        const buttonEl =\n",
              "          document.querySelector('#df-c0d94e28-0ac9-401e-8d98-5475ee429ad7 button.colab-df-convert');\n",
              "        buttonEl.style.display =\n",
              "          google.colab.kernel.accessAllowed ? 'block' : 'none';\n",
              "\n",
              "        async function convertToInteractive(key) {\n",
              "          const element = document.querySelector('#df-c0d94e28-0ac9-401e-8d98-5475ee429ad7');\n",
              "          const dataTable =\n",
              "            await google.colab.kernel.invokeFunction('convertToInteractive',\n",
              "                                                     [key], {});\n",
              "          if (!dataTable) return;\n",
              "\n",
              "          const docLinkHtml = 'Like what you see? Visit the ' +\n",
              "            '<a target=\"_blank\" href=https://colab.research.google.com/notebooks/data_table.ipynb>data table notebook</a>'\n",
              "            + ' to learn more about interactive tables.';\n",
              "          element.innerHTML = '';\n",
              "          dataTable['output_type'] = 'display_data';\n",
              "          await google.colab.output.renderOutput(dataTable, element);\n",
              "          const docLink = document.createElement('div');\n",
              "          docLink.innerHTML = docLinkHtml;\n",
              "          element.appendChild(docLink);\n",
              "        }\n",
              "      </script>\n",
              "    </div>\n",
              "  </div>\n",
              "  "
            ]
          },
          "metadata": {},
          "execution_count": 136
        }
      ]
    },
    {
      "cell_type": "markdown",
      "source": [
        "**Exploring what kind of data is given**"
      ],
      "metadata": {
        "id": "J0ziX-mc2PVg"
      }
    },
    {
      "cell_type": "code",
      "source": [
        "df.columns\n"
      ],
      "metadata": {
        "colab": {
          "base_uri": "https://localhost:8080/"
        },
        "id": "zI3fLjDydNNp",
        "outputId": "3bb4797c-2049-43d9-8d4e-b541a4cf6d52"
      },
      "execution_count": 137,
      "outputs": [
        {
          "output_type": "execute_result",
          "data": {
            "text/plain": [
              "Index(['Unnamed: 0', 'Make', 'Model', 'Variant', 'Ex-Showroom_Price',\n",
              "       'Displacement', 'Cylinders', 'Valves_Per_Cylinder', 'Drivetrain',\n",
              "       'Cylinder_Configuration',\n",
              "       ...\n",
              "       'Leather_Wrapped_Steering', 'Automatic_Headlamps', 'Engine_Type',\n",
              "       'ASR_/_Traction_Control', 'Cruise_Control', 'USB_Ports',\n",
              "       'Heads-Up_Display', 'Welcome_Lights', 'Battery', 'Electric_Range'],\n",
              "      dtype='object', length=141)"
            ]
          },
          "metadata": {},
          "execution_count": 137
        }
      ]
    },
    {
      "cell_type": "code",
      "source": [
        "df.isnull().sum()"
      ],
      "metadata": {
        "colab": {
          "base_uri": "https://localhost:8080/"
        },
        "id": "wRAdWG1kZNZe",
        "outputId": "1077753a-9702-4769-a3a0-409cf6a226f1"
      },
      "execution_count": 138,
      "outputs": [
        {
          "output_type": "execute_result",
          "data": {
            "text/plain": [
              "Unnamed: 0              0\n",
              "Make                   75\n",
              "Model                   0\n",
              "Variant                 0\n",
              "Ex-Showroom_Price       0\n",
              "                     ... \n",
              "USB_Ports            1247\n",
              "Heads-Up_Display     1225\n",
              "Welcome_Lights       1207\n",
              "Battery              1263\n",
              "Electric_Range       1259\n",
              "Length: 141, dtype: int64"
            ]
          },
          "metadata": {},
          "execution_count": 138
        }
      ]
    },
    {
      "cell_type": "code",
      "source": [
        "df['Valves_Per_Cylinder']"
      ],
      "metadata": {
        "colab": {
          "base_uri": "https://localhost:8080/"
        },
        "id": "xDMpovamZf9Z",
        "outputId": "444ada93-e95e-4d62-8fad-967907e92db9"
      },
      "execution_count": 139,
      "outputs": [
        {
          "output_type": "execute_result",
          "data": {
            "text/plain": [
              "0       2.0\n",
              "1       2.0\n",
              "2       2.0\n",
              "3       2.0\n",
              "4       2.0\n",
              "       ... \n",
              "1271    4.0\n",
              "1272    4.0\n",
              "1273    4.0\n",
              "1274    4.0\n",
              "1275    4.0\n",
              "Name: Valves_Per_Cylinder, Length: 1276, dtype: float64"
            ]
          },
          "metadata": {},
          "execution_count": 139
        }
      ]
    },
    {
      "cell_type": "code",
      "source": [
        "df.columns[df.isnull().any()]"
      ],
      "metadata": {
        "colab": {
          "base_uri": "https://localhost:8080/"
        },
        "id": "nolnHlGeZ-6z",
        "outputId": "f635244a-7cab-4ff6-c0fd-94a7d9cc8253"
      },
      "execution_count": 140,
      "outputs": [
        {
          "output_type": "execute_result",
          "data": {
            "text/plain": [
              "Index(['Make', 'Displacement', 'Cylinders', 'Valves_Per_Cylinder',\n",
              "       'Drivetrain', 'Cylinder_Configuration', 'Emission_Norm',\n",
              "       'Engine_Location', 'Fuel_System', 'Fuel_Tank_Capacity',\n",
              "       ...\n",
              "       'Leather_Wrapped_Steering', 'Automatic_Headlamps', 'Engine_Type',\n",
              "       'ASR_/_Traction_Control', 'Cruise_Control', 'USB_Ports',\n",
              "       'Heads-Up_Display', 'Welcome_Lights', 'Battery', 'Electric_Range'],\n",
              "      dtype='object', length=134)"
            ]
          },
          "metadata": {},
          "execution_count": 140
        }
      ]
    },
    {
      "cell_type": "code",
      "source": [
        "df['City_Mileage'].value_counts()"
      ],
      "metadata": {
        "colab": {
          "base_uri": "https://localhost:8080/"
        },
        "id": "ZyvV5aEE3gz7",
        "outputId": "68528ef8-94c9-4d1a-a0c8-35de0658f280"
      },
      "execution_count": 141,
      "outputs": [
        {
          "output_type": "execute_result",
          "data": {
            "text/plain": [
              "12 km/litre      38\n",
              "16 km/litre      30\n",
              "18 km/litre      26\n",
              "14 km/litre      20\n",
              "23 km/litre      19\n",
              "                 ..\n",
              "8.69 km/litre     1\n",
              "4 km/litre        1\n",
              "3 km/litre        1\n",
              "4.38 km/litre     1\n",
              "8.25 km/litre     1\n",
              "Name: City_Mileage, Length: 164, dtype: int64"
            ]
          },
          "metadata": {},
          "execution_count": 141
        }
      ]
    },
    {
      "cell_type": "code",
      "source": [
        "df['Boot_Space'].value_counts()"
      ],
      "metadata": {
        "id": "QFuq1gDTZ_sX",
        "colab": {
          "base_uri": "https://localhost:8080/"
        },
        "outputId": "d3e02e06-edc8-4fc3-9317-eee9f4b6451d"
      },
      "execution_count": 142,
      "outputs": [
        {
          "output_type": "execute_result",
          "data": {
            "text/plain": [
              "350 litres     44\n",
              "475 litres     35\n",
              "460 litres     31\n",
              "510 litres     30\n",
              "251 litres     28\n",
              "               ..\n",
              "770 litres      1\n",
              "621 litres      1\n",
              "535 litres      1\n",
              "173 litres      1\n",
              "1050 litres     1\n",
              "Name: Boot_Space, Length: 138, dtype: int64"
            ]
          },
          "metadata": {},
          "execution_count": 142
        }
      ]
    },
    {
      "cell_type": "markdown",
      "source": [
        "**Extracting Useful Columns From the Data**"
      ],
      "metadata": {
        "id": "ZKUojcYC2IEf"
      }
    },
    {
      "cell_type": "code",
      "source": [
        "df2=df[['Make','Model',                                \n",
        "'Variant','Displacement',                              \n",
        "'Ex-Showroom_Price',                    \n",
        "'Cylinders',                           \n",
        "'Valves_Per_Cylinder',                \n",
        "'Emission_Norm',                       \n",
        "'Fuel_Type',                            \n",
        "'Body_Type',                            \n",
        "'City_Mileage',                       \n",
        "'Power',                                \n",
        "'Torque',                              \n",
        "'Seating_Capacity',                     \n",
        "'Boot_Space',                \n",
        "'Number_of_Airbags',                  ]]"
      ],
      "metadata": {
        "id": "teTq8QW2H9OB"
      },
      "execution_count": 143,
      "outputs": []
    },
    {
      "cell_type": "code",
      "source": [
        "df2"
      ],
      "metadata": {
        "colab": {
          "base_uri": "https://localhost:8080/",
          "height": 661
        },
        "id": "KMjUXqvbKvtU",
        "outputId": "39bc3215-d033-49a1-de3d-0471dd162305"
      },
      "execution_count": 144,
      "outputs": [
        {
          "output_type": "execute_result",
          "data": {
            "text/plain": [
              "            Make      Model        Variant Displacement Ex-Showroom_Price  \\\n",
              "0           Tata  Nano Genx             Xt       624 cc      Rs. 2,92,667   \n",
              "1           Tata  Nano Genx             Xe       624 cc      Rs. 2,36,447   \n",
              "2           Tata  Nano Genx        Emax Xm       624 cc      Rs. 2,96,661   \n",
              "3           Tata  Nano Genx            Xta       624 cc      Rs. 3,34,768   \n",
              "4           Tata  Nano Genx             Xm       624 cc      Rs. 2,72,223   \n",
              "...          ...        ...            ...          ...               ...   \n",
              "1271       Honda       City   Vx Mt Diesel      1498 cc     Rs. 13,02,000   \n",
              "1272       Honda       City   Zx Mt Diesel      1498 cc     Rs. 14,21,000   \n",
              "1273       Honda       City  Zx Cvt Petrol      1497 cc     Rs. 14,31,000   \n",
              "1274       Honda       City   V Cvt Petrol      1497 cc     Rs. 12,01,000   \n",
              "1275  Mitsubishi    Montero         3.2 At      3200 cc     Rs. 68,62,560   \n",
              "\n",
              "      Cylinders  Valves_Per_Cylinder Emission_Norm Fuel_Type  Body_Type  \\\n",
              "0           2.0                  2.0         BS IV    Petrol  Hatchback   \n",
              "1           2.0                  2.0         BS IV    Petrol  Hatchback   \n",
              "2           2.0                  2.0         BS IV       CNG  Hatchback   \n",
              "3           2.0                  2.0         BS IV    Petrol  Hatchback   \n",
              "4           2.0                  2.0         BS IV    Petrol  Hatchback   \n",
              "...         ...                  ...           ...       ...        ...   \n",
              "1271        4.0                  4.0         BS IV    Diesel      Sedan   \n",
              "1272        4.0                  4.0         BS IV    Diesel      Sedan   \n",
              "1273        4.0                  4.0          BS 6    Petrol      Sedan   \n",
              "1274        4.0                  4.0          BS 6    Petrol      Sedan   \n",
              "1275        4.0                  4.0         BS IV    Diesel        SUV   \n",
              "\n",
              "        City_Mileage          Power         Torque  Seating_Capacity  \\\n",
              "0     ?23.6 km/litre   38PS@5500rpm   51Nm@4000rpm               4.0   \n",
              "1     ?23.6 km/litre   38PS@5500rpm   51Nm@4000rpm               4.0   \n",
              "2                NaN   38PS@5500rpm   51Nm@4000rpm               4.0   \n",
              "3     ?23.6 km/litre   38PS@5500rpm   51Nm@4000rpm               4.0   \n",
              "4     ?23.6 km/litre   38PS@5500rpm   51Nm@4000rpm               4.0   \n",
              "...              ...            ...            ...               ...   \n",
              "1271   22.6 km/litre  100PS@3600rpm  200Nm@1750rpm               5.0   \n",
              "1272   22.6 km/litre  100PS@3600rpm  200Nm@1750rpm               5.0   \n",
              "1273     18 km/litre  119PS@6600rpm  145Nm@4600rpm               5.0   \n",
              "1274   14.3 km/litre  119PS@6600rpm  145Nm@4600rpm               5.0   \n",
              "1275   8.25 km/litre  202ps@3800rpm  441Nm@2000rpm               7.0   \n",
              "\n",
              "       Boot_Space  Number_of_Airbags  \n",
              "0      110 litres                NaN  \n",
              "1      110 litres                NaN  \n",
              "2      110 litres                NaN  \n",
              "3       94 litres                NaN  \n",
              "4      110 litres                NaN  \n",
              "...           ...                ...  \n",
              "1271   510 litres                2.0  \n",
              "1272   510 litres                6.0  \n",
              "1273   510 litres                6.0  \n",
              "1274   510 litres                2.0  \n",
              "1275  1050 litres                6.0  \n",
              "\n",
              "[1276 rows x 16 columns]"
            ],
            "text/html": [
              "\n",
              "  <div id=\"df-f84cbe2e-7316-4575-b98c-41dd09564e72\">\n",
              "    <div class=\"colab-df-container\">\n",
              "      <div>\n",
              "<style scoped>\n",
              "    .dataframe tbody tr th:only-of-type {\n",
              "        vertical-align: middle;\n",
              "    }\n",
              "\n",
              "    .dataframe tbody tr th {\n",
              "        vertical-align: top;\n",
              "    }\n",
              "\n",
              "    .dataframe thead th {\n",
              "        text-align: right;\n",
              "    }\n",
              "</style>\n",
              "<table border=\"1\" class=\"dataframe\">\n",
              "  <thead>\n",
              "    <tr style=\"text-align: right;\">\n",
              "      <th></th>\n",
              "      <th>Make</th>\n",
              "      <th>Model</th>\n",
              "      <th>Variant</th>\n",
              "      <th>Displacement</th>\n",
              "      <th>Ex-Showroom_Price</th>\n",
              "      <th>Cylinders</th>\n",
              "      <th>Valves_Per_Cylinder</th>\n",
              "      <th>Emission_Norm</th>\n",
              "      <th>Fuel_Type</th>\n",
              "      <th>Body_Type</th>\n",
              "      <th>City_Mileage</th>\n",
              "      <th>Power</th>\n",
              "      <th>Torque</th>\n",
              "      <th>Seating_Capacity</th>\n",
              "      <th>Boot_Space</th>\n",
              "      <th>Number_of_Airbags</th>\n",
              "    </tr>\n",
              "  </thead>\n",
              "  <tbody>\n",
              "    <tr>\n",
              "      <th>0</th>\n",
              "      <td>Tata</td>\n",
              "      <td>Nano Genx</td>\n",
              "      <td>Xt</td>\n",
              "      <td>624 cc</td>\n",
              "      <td>Rs. 2,92,667</td>\n",
              "      <td>2.0</td>\n",
              "      <td>2.0</td>\n",
              "      <td>BS IV</td>\n",
              "      <td>Petrol</td>\n",
              "      <td>Hatchback</td>\n",
              "      <td>?23.6 km/litre</td>\n",
              "      <td>38PS@5500rpm</td>\n",
              "      <td>51Nm@4000rpm</td>\n",
              "      <td>4.0</td>\n",
              "      <td>110 litres</td>\n",
              "      <td>NaN</td>\n",
              "    </tr>\n",
              "    <tr>\n",
              "      <th>1</th>\n",
              "      <td>Tata</td>\n",
              "      <td>Nano Genx</td>\n",
              "      <td>Xe</td>\n",
              "      <td>624 cc</td>\n",
              "      <td>Rs. 2,36,447</td>\n",
              "      <td>2.0</td>\n",
              "      <td>2.0</td>\n",
              "      <td>BS IV</td>\n",
              "      <td>Petrol</td>\n",
              "      <td>Hatchback</td>\n",
              "      <td>?23.6 km/litre</td>\n",
              "      <td>38PS@5500rpm</td>\n",
              "      <td>51Nm@4000rpm</td>\n",
              "      <td>4.0</td>\n",
              "      <td>110 litres</td>\n",
              "      <td>NaN</td>\n",
              "    </tr>\n",
              "    <tr>\n",
              "      <th>2</th>\n",
              "      <td>Tata</td>\n",
              "      <td>Nano Genx</td>\n",
              "      <td>Emax Xm</td>\n",
              "      <td>624 cc</td>\n",
              "      <td>Rs. 2,96,661</td>\n",
              "      <td>2.0</td>\n",
              "      <td>2.0</td>\n",
              "      <td>BS IV</td>\n",
              "      <td>CNG</td>\n",
              "      <td>Hatchback</td>\n",
              "      <td>NaN</td>\n",
              "      <td>38PS@5500rpm</td>\n",
              "      <td>51Nm@4000rpm</td>\n",
              "      <td>4.0</td>\n",
              "      <td>110 litres</td>\n",
              "      <td>NaN</td>\n",
              "    </tr>\n",
              "    <tr>\n",
              "      <th>3</th>\n",
              "      <td>Tata</td>\n",
              "      <td>Nano Genx</td>\n",
              "      <td>Xta</td>\n",
              "      <td>624 cc</td>\n",
              "      <td>Rs. 3,34,768</td>\n",
              "      <td>2.0</td>\n",
              "      <td>2.0</td>\n",
              "      <td>BS IV</td>\n",
              "      <td>Petrol</td>\n",
              "      <td>Hatchback</td>\n",
              "      <td>?23.6 km/litre</td>\n",
              "      <td>38PS@5500rpm</td>\n",
              "      <td>51Nm@4000rpm</td>\n",
              "      <td>4.0</td>\n",
              "      <td>94 litres</td>\n",
              "      <td>NaN</td>\n",
              "    </tr>\n",
              "    <tr>\n",
              "      <th>4</th>\n",
              "      <td>Tata</td>\n",
              "      <td>Nano Genx</td>\n",
              "      <td>Xm</td>\n",
              "      <td>624 cc</td>\n",
              "      <td>Rs. 2,72,223</td>\n",
              "      <td>2.0</td>\n",
              "      <td>2.0</td>\n",
              "      <td>BS IV</td>\n",
              "      <td>Petrol</td>\n",
              "      <td>Hatchback</td>\n",
              "      <td>?23.6 km/litre</td>\n",
              "      <td>38PS@5500rpm</td>\n",
              "      <td>51Nm@4000rpm</td>\n",
              "      <td>4.0</td>\n",
              "      <td>110 litres</td>\n",
              "      <td>NaN</td>\n",
              "    </tr>\n",
              "    <tr>\n",
              "      <th>...</th>\n",
              "      <td>...</td>\n",
              "      <td>...</td>\n",
              "      <td>...</td>\n",
              "      <td>...</td>\n",
              "      <td>...</td>\n",
              "      <td>...</td>\n",
              "      <td>...</td>\n",
              "      <td>...</td>\n",
              "      <td>...</td>\n",
              "      <td>...</td>\n",
              "      <td>...</td>\n",
              "      <td>...</td>\n",
              "      <td>...</td>\n",
              "      <td>...</td>\n",
              "      <td>...</td>\n",
              "      <td>...</td>\n",
              "    </tr>\n",
              "    <tr>\n",
              "      <th>1271</th>\n",
              "      <td>Honda</td>\n",
              "      <td>City</td>\n",
              "      <td>Vx Mt Diesel</td>\n",
              "      <td>1498 cc</td>\n",
              "      <td>Rs. 13,02,000</td>\n",
              "      <td>4.0</td>\n",
              "      <td>4.0</td>\n",
              "      <td>BS IV</td>\n",
              "      <td>Diesel</td>\n",
              "      <td>Sedan</td>\n",
              "      <td>22.6 km/litre</td>\n",
              "      <td>100PS@3600rpm</td>\n",
              "      <td>200Nm@1750rpm</td>\n",
              "      <td>5.0</td>\n",
              "      <td>510 litres</td>\n",
              "      <td>2.0</td>\n",
              "    </tr>\n",
              "    <tr>\n",
              "      <th>1272</th>\n",
              "      <td>Honda</td>\n",
              "      <td>City</td>\n",
              "      <td>Zx Mt Diesel</td>\n",
              "      <td>1498 cc</td>\n",
              "      <td>Rs. 14,21,000</td>\n",
              "      <td>4.0</td>\n",
              "      <td>4.0</td>\n",
              "      <td>BS IV</td>\n",
              "      <td>Diesel</td>\n",
              "      <td>Sedan</td>\n",
              "      <td>22.6 km/litre</td>\n",
              "      <td>100PS@3600rpm</td>\n",
              "      <td>200Nm@1750rpm</td>\n",
              "      <td>5.0</td>\n",
              "      <td>510 litres</td>\n",
              "      <td>6.0</td>\n",
              "    </tr>\n",
              "    <tr>\n",
              "      <th>1273</th>\n",
              "      <td>Honda</td>\n",
              "      <td>City</td>\n",
              "      <td>Zx Cvt Petrol</td>\n",
              "      <td>1497 cc</td>\n",
              "      <td>Rs. 14,31,000</td>\n",
              "      <td>4.0</td>\n",
              "      <td>4.0</td>\n",
              "      <td>BS 6</td>\n",
              "      <td>Petrol</td>\n",
              "      <td>Sedan</td>\n",
              "      <td>18 km/litre</td>\n",
              "      <td>119PS@6600rpm</td>\n",
              "      <td>145Nm@4600rpm</td>\n",
              "      <td>5.0</td>\n",
              "      <td>510 litres</td>\n",
              "      <td>6.0</td>\n",
              "    </tr>\n",
              "    <tr>\n",
              "      <th>1274</th>\n",
              "      <td>Honda</td>\n",
              "      <td>City</td>\n",
              "      <td>V Cvt Petrol</td>\n",
              "      <td>1497 cc</td>\n",
              "      <td>Rs. 12,01,000</td>\n",
              "      <td>4.0</td>\n",
              "      <td>4.0</td>\n",
              "      <td>BS 6</td>\n",
              "      <td>Petrol</td>\n",
              "      <td>Sedan</td>\n",
              "      <td>14.3 km/litre</td>\n",
              "      <td>119PS@6600rpm</td>\n",
              "      <td>145Nm@4600rpm</td>\n",
              "      <td>5.0</td>\n",
              "      <td>510 litres</td>\n",
              "      <td>2.0</td>\n",
              "    </tr>\n",
              "    <tr>\n",
              "      <th>1275</th>\n",
              "      <td>Mitsubishi</td>\n",
              "      <td>Montero</td>\n",
              "      <td>3.2 At</td>\n",
              "      <td>3200 cc</td>\n",
              "      <td>Rs. 68,62,560</td>\n",
              "      <td>4.0</td>\n",
              "      <td>4.0</td>\n",
              "      <td>BS IV</td>\n",
              "      <td>Diesel</td>\n",
              "      <td>SUV</td>\n",
              "      <td>8.25 km/litre</td>\n",
              "      <td>202ps@3800rpm</td>\n",
              "      <td>441Nm@2000rpm</td>\n",
              "      <td>7.0</td>\n",
              "      <td>1050 litres</td>\n",
              "      <td>6.0</td>\n",
              "    </tr>\n",
              "  </tbody>\n",
              "</table>\n",
              "<p>1276 rows × 16 columns</p>\n",
              "</div>\n",
              "      <button class=\"colab-df-convert\" onclick=\"convertToInteractive('df-f84cbe2e-7316-4575-b98c-41dd09564e72')\"\n",
              "              title=\"Convert this dataframe to an interactive table.\"\n",
              "              style=\"display:none;\">\n",
              "        \n",
              "  <svg xmlns=\"http://www.w3.org/2000/svg\" height=\"24px\"viewBox=\"0 0 24 24\"\n",
              "       width=\"24px\">\n",
              "    <path d=\"M0 0h24v24H0V0z\" fill=\"none\"/>\n",
              "    <path d=\"M18.56 5.44l.94 2.06.94-2.06 2.06-.94-2.06-.94-.94-2.06-.94 2.06-2.06.94zm-11 1L8.5 8.5l.94-2.06 2.06-.94-2.06-.94L8.5 2.5l-.94 2.06-2.06.94zm10 10l.94 2.06.94-2.06 2.06-.94-2.06-.94-.94-2.06-.94 2.06-2.06.94z\"/><path d=\"M17.41 7.96l-1.37-1.37c-.4-.4-.92-.59-1.43-.59-.52 0-1.04.2-1.43.59L10.3 9.45l-7.72 7.72c-.78.78-.78 2.05 0 2.83L4 21.41c.39.39.9.59 1.41.59.51 0 1.02-.2 1.41-.59l7.78-7.78 2.81-2.81c.8-.78.8-2.07 0-2.86zM5.41 20L4 18.59l7.72-7.72 1.47 1.35L5.41 20z\"/>\n",
              "  </svg>\n",
              "      </button>\n",
              "      \n",
              "  <style>\n",
              "    .colab-df-container {\n",
              "      display:flex;\n",
              "      flex-wrap:wrap;\n",
              "      gap: 12px;\n",
              "    }\n",
              "\n",
              "    .colab-df-convert {\n",
              "      background-color: #E8F0FE;\n",
              "      border: none;\n",
              "      border-radius: 50%;\n",
              "      cursor: pointer;\n",
              "      display: none;\n",
              "      fill: #1967D2;\n",
              "      height: 32px;\n",
              "      padding: 0 0 0 0;\n",
              "      width: 32px;\n",
              "    }\n",
              "\n",
              "    .colab-df-convert:hover {\n",
              "      background-color: #E2EBFA;\n",
              "      box-shadow: 0px 1px 2px rgba(60, 64, 67, 0.3), 0px 1px 3px 1px rgba(60, 64, 67, 0.15);\n",
              "      fill: #174EA6;\n",
              "    }\n",
              "\n",
              "    [theme=dark] .colab-df-convert {\n",
              "      background-color: #3B4455;\n",
              "      fill: #D2E3FC;\n",
              "    }\n",
              "\n",
              "    [theme=dark] .colab-df-convert:hover {\n",
              "      background-color: #434B5C;\n",
              "      box-shadow: 0px 1px 3px 1px rgba(0, 0, 0, 0.15);\n",
              "      filter: drop-shadow(0px 1px 2px rgba(0, 0, 0, 0.3));\n",
              "      fill: #FFFFFF;\n",
              "    }\n",
              "  </style>\n",
              "\n",
              "      <script>\n",
              "        const buttonEl =\n",
              "          document.querySelector('#df-f84cbe2e-7316-4575-b98c-41dd09564e72 button.colab-df-convert');\n",
              "        buttonEl.style.display =\n",
              "          google.colab.kernel.accessAllowed ? 'block' : 'none';\n",
              "\n",
              "        async function convertToInteractive(key) {\n",
              "          const element = document.querySelector('#df-f84cbe2e-7316-4575-b98c-41dd09564e72');\n",
              "          const dataTable =\n",
              "            await google.colab.kernel.invokeFunction('convertToInteractive',\n",
              "                                                     [key], {});\n",
              "          if (!dataTable) return;\n",
              "\n",
              "          const docLinkHtml = 'Like what you see? Visit the ' +\n",
              "            '<a target=\"_blank\" href=https://colab.research.google.com/notebooks/data_table.ipynb>data table notebook</a>'\n",
              "            + ' to learn more about interactive tables.';\n",
              "          element.innerHTML = '';\n",
              "          dataTable['output_type'] = 'display_data';\n",
              "          await google.colab.output.renderOutput(dataTable, element);\n",
              "          const docLink = document.createElement('div');\n",
              "          docLink.innerHTML = docLinkHtml;\n",
              "          element.appendChild(docLink);\n",
              "        }\n",
              "      </script>\n",
              "    </div>\n",
              "  </div>\n",
              "  "
            ]
          },
          "metadata": {},
          "execution_count": 144
        }
      ]
    },
    {
      "cell_type": "markdown",
      "source": [
        "**Cleaning The Data**"
      ],
      "metadata": {
        "id": "0UlYYRrV3MT2"
      }
    },
    {
      "cell_type": "code",
      "source": [
        "df2.isnull().sum()"
      ],
      "metadata": {
        "colab": {
          "base_uri": "https://localhost:8080/"
        },
        "id": "J34yaX6QKxZg",
        "outputId": "872b1dca-af37-428c-f265-5ab8658dfcc0"
      },
      "execution_count": 145,
      "outputs": [
        {
          "output_type": "execute_result",
          "data": {
            "text/plain": [
              "Make                    75\n",
              "Model                    0\n",
              "Variant                  0\n",
              "Displacement            12\n",
              "Ex-Showroom_Price        0\n",
              "Cylinders               66\n",
              "Valves_Per_Cylinder    102\n",
              "Emission_Norm           11\n",
              "Fuel_Type                0\n",
              "Body_Type                6\n",
              "City_Mileage           555\n",
              "Power                    0\n",
              "Torque                   2\n",
              "Seating_Capacity         6\n",
              "Boot_Space             249\n",
              "Number_of_Airbags      135\n",
              "dtype: int64"
            ]
          },
          "metadata": {},
          "execution_count": 145
        }
      ]
    },
    {
      "cell_type": "code",
      "source": [
        "df2.Make.fillna('Mercedes',inplace=True)\n",
        "df2['Make'][1219]='Rolls-Royce'\n",
        "df2['Make'][1220]='Rolls-Royce'\n",
        "df2['Make'][879]='Rolls-Royce'\n",
        "df2['Make'][880]='Rolls-Royce'\n",
        "for i in range(883,892):\n",
        "    df2['Make'][i]='Datsun'\n",
        "for i in range(349,355):\n",
        "    df2['Make'][i]='Rolls-Royce'"
      ],
      "metadata": {
        "colab": {
          "base_uri": "https://localhost:8080/"
        },
        "id": "e4WU40g-LT3E",
        "outputId": "bf095bef-cd89-45ee-f905-30acfd013812"
      },
      "execution_count": 146,
      "outputs": [
        {
          "output_type": "stream",
          "name": "stderr",
          "text": [
            "/usr/local/lib/python3.7/dist-packages/pandas/core/generic.py:6392: SettingWithCopyWarning: \n",
            "A value is trying to be set on a copy of a slice from a DataFrame\n",
            "\n",
            "See the caveats in the documentation: https://pandas.pydata.org/pandas-docs/stable/user_guide/indexing.html#returning-a-view-versus-a-copy\n",
            "  return self._update_inplace(result)\n",
            "/usr/local/lib/python3.7/dist-packages/ipykernel_launcher.py:2: SettingWithCopyWarning: \n",
            "A value is trying to be set on a copy of a slice from a DataFrame\n",
            "\n",
            "See the caveats in the documentation: https://pandas.pydata.org/pandas-docs/stable/user_guide/indexing.html#returning-a-view-versus-a-copy\n",
            "  \n",
            "/usr/local/lib/python3.7/dist-packages/ipykernel_launcher.py:3: SettingWithCopyWarning: \n",
            "A value is trying to be set on a copy of a slice from a DataFrame\n",
            "\n",
            "See the caveats in the documentation: https://pandas.pydata.org/pandas-docs/stable/user_guide/indexing.html#returning-a-view-versus-a-copy\n",
            "  This is separate from the ipykernel package so we can avoid doing imports until\n",
            "/usr/local/lib/python3.7/dist-packages/ipykernel_launcher.py:4: SettingWithCopyWarning: \n",
            "A value is trying to be set on a copy of a slice from a DataFrame\n",
            "\n",
            "See the caveats in the documentation: https://pandas.pydata.org/pandas-docs/stable/user_guide/indexing.html#returning-a-view-versus-a-copy\n",
            "  after removing the cwd from sys.path.\n",
            "/usr/local/lib/python3.7/dist-packages/ipykernel_launcher.py:5: SettingWithCopyWarning: \n",
            "A value is trying to be set on a copy of a slice from a DataFrame\n",
            "\n",
            "See the caveats in the documentation: https://pandas.pydata.org/pandas-docs/stable/user_guide/indexing.html#returning-a-view-versus-a-copy\n",
            "  \"\"\"\n",
            "/usr/local/lib/python3.7/dist-packages/ipykernel_launcher.py:7: SettingWithCopyWarning: \n",
            "A value is trying to be set on a copy of a slice from a DataFrame\n",
            "\n",
            "See the caveats in the documentation: https://pandas.pydata.org/pandas-docs/stable/user_guide/indexing.html#returning-a-view-versus-a-copy\n",
            "  import sys\n",
            "/usr/local/lib/python3.7/dist-packages/ipykernel_launcher.py:9: SettingWithCopyWarning: \n",
            "A value is trying to be set on a copy of a slice from a DataFrame\n",
            "\n",
            "See the caveats in the documentation: https://pandas.pydata.org/pandas-docs/stable/user_guide/indexing.html#returning-a-view-versus-a-copy\n",
            "  if __name__ == '__main__':\n"
          ]
        }
      ]
    },
    {
      "cell_type": "code",
      "source": [
        "df2.isnull().sum()"
      ],
      "metadata": {
        "colab": {
          "base_uri": "https://localhost:8080/"
        },
        "id": "q7A48dloLcoY",
        "outputId": "9e116e35-27d5-4373-d8cd-29c1fcb28f45"
      },
      "execution_count": 147,
      "outputs": [
        {
          "output_type": "execute_result",
          "data": {
            "text/plain": [
              "Make                     0\n",
              "Model                    0\n",
              "Variant                  0\n",
              "Displacement            12\n",
              "Ex-Showroom_Price        0\n",
              "Cylinders               66\n",
              "Valves_Per_Cylinder    102\n",
              "Emission_Norm           11\n",
              "Fuel_Type                0\n",
              "Body_Type                6\n",
              "City_Mileage           555\n",
              "Power                    0\n",
              "Torque                   2\n",
              "Seating_Capacity         6\n",
              "Boot_Space             249\n",
              "Number_of_Airbags      135\n",
              "dtype: int64"
            ]
          },
          "metadata": {},
          "execution_count": 147
        }
      ]
    },
    {
      "cell_type": "code",
      "source": [
        "df2.Make.value_counts()"
      ],
      "metadata": {
        "colab": {
          "base_uri": "https://localhost:8080/"
        },
        "id": "luGj4ioyLuny",
        "outputId": "501df617-da16-4ea9-e182-b52ed2bee9a1"
      },
      "execution_count": 148,
      "outputs": [
        {
          "output_type": "execute_result",
          "data": {
            "text/plain": [
              "Maruti Suzuki       149\n",
              "Hyundai             130\n",
              "Mahindra            119\n",
              "Tata                100\n",
              "Toyota               82\n",
              "Honda                64\n",
              "Mercedes             57\n",
              "Ford                 43\n",
              "Skoda                43\n",
              "Bmw                  37\n",
              "Renault              36\n",
              "Volkswagen           34\n",
              "Audi                 31\n",
              "Nissan               29\n",
              "Jeep                 28\n",
              "Land Rover Rover     27\n",
              "Datsun               24\n",
              "Fiat                 23\n",
              "Jaguar               22\n",
              "Kia                  21\n",
              "Volvo                18\n",
              "Maruti Suzuki R      14\n",
              "Porsche              14\n",
              "Lamborghini          13\n",
              "Mg                   13\n",
              "Icml                 11\n",
              "Mini                 10\n",
              "Lexus                10\n",
              "Land Rover           10\n",
              "Rolls-Royce          10\n",
              "Maserati              9\n",
              "Ferrari               8\n",
              "Mitsubishi            7\n",
              "Force                 6\n",
              "Premier               6\n",
              "Bentley               5\n",
              "Isuzu                 5\n",
              "Aston Martin          3\n",
              "Bugatti               2\n",
              "Bajaj                 2\n",
              "Dc                    1\n",
              "Name: Make, dtype: int64"
            ]
          },
          "metadata": {},
          "execution_count": 148
        }
      ]
    },
    {
      "cell_type": "code",
      "source": [
        "df2.Displacement=df2.Displacement.str.replace('cc',' ')"
      ],
      "metadata": {
        "colab": {
          "base_uri": "https://localhost:8080/"
        },
        "id": "BBc9IMONOZSy",
        "outputId": "31971fda-2f71-49ca-a1a1-a92052c6d7dc"
      },
      "execution_count": 149,
      "outputs": [
        {
          "output_type": "stream",
          "name": "stderr",
          "text": [
            "/usr/local/lib/python3.7/dist-packages/pandas/core/generic.py:5516: SettingWithCopyWarning: \n",
            "A value is trying to be set on a copy of a slice from a DataFrame.\n",
            "Try using .loc[row_indexer,col_indexer] = value instead\n",
            "\n",
            "See the caveats in the documentation: https://pandas.pydata.org/pandas-docs/stable/user_guide/indexing.html#returning-a-view-versus-a-copy\n",
            "  self[name] = value\n"
          ]
        }
      ]
    },
    {
      "cell_type": "code",
      "source": [
        "df2.Displacement=pd.to_numeric(df2.Displacement,errors='coerce')\n",
        "df2.Displacement"
      ],
      "metadata": {
        "colab": {
          "base_uri": "https://localhost:8080/"
        },
        "id": "BRl2ouOjOoyx",
        "outputId": "18b40b2e-21a8-47eb-bc04-ce51afafb27e"
      },
      "execution_count": 150,
      "outputs": [
        {
          "output_type": "stream",
          "name": "stderr",
          "text": [
            "/usr/local/lib/python3.7/dist-packages/pandas/core/generic.py:5516: SettingWithCopyWarning: \n",
            "A value is trying to be set on a copy of a slice from a DataFrame.\n",
            "Try using .loc[row_indexer,col_indexer] = value instead\n",
            "\n",
            "See the caveats in the documentation: https://pandas.pydata.org/pandas-docs/stable/user_guide/indexing.html#returning-a-view-versus-a-copy\n",
            "  self[name] = value\n"
          ]
        },
        {
          "output_type": "execute_result",
          "data": {
            "text/plain": [
              "0        624.0\n",
              "1        624.0\n",
              "2        624.0\n",
              "3        624.0\n",
              "4        624.0\n",
              "         ...  \n",
              "1271    1498.0\n",
              "1272    1498.0\n",
              "1273    1497.0\n",
              "1274    1497.0\n",
              "1275    3200.0\n",
              "Name: Displacement, Length: 1276, dtype: float64"
            ]
          },
          "metadata": {},
          "execution_count": 150
        }
      ]
    },
    {
      "cell_type": "code",
      "source": [
        "df2.Displacement.mode()"
      ],
      "metadata": {
        "colab": {
          "base_uri": "https://localhost:8080/"
        },
        "id": "_kaP4AR6MxVD",
        "outputId": "d3408200-ce0b-4129-fb7e-f8a4f88dde6b"
      },
      "execution_count": 151,
      "outputs": [
        {
          "output_type": "execute_result",
          "data": {
            "text/plain": [
              "0    1197.0\n",
              "dtype: float64"
            ]
          },
          "metadata": {},
          "execution_count": 151
        }
      ]
    },
    {
      "cell_type": "code",
      "source": [
        "\n",
        "df2.Displacement=df2['Displacement'].fillna(1197.0)\n",
        "df2.Displacement"
      ],
      "metadata": {
        "colab": {
          "base_uri": "https://localhost:8080/"
        },
        "id": "Xshm36siL9KQ",
        "outputId": "61ca66da-5081-47f9-ef13-6acbd2acdee4"
      },
      "execution_count": 152,
      "outputs": [
        {
          "output_type": "stream",
          "name": "stderr",
          "text": [
            "/usr/local/lib/python3.7/dist-packages/pandas/core/generic.py:5516: SettingWithCopyWarning: \n",
            "A value is trying to be set on a copy of a slice from a DataFrame.\n",
            "Try using .loc[row_indexer,col_indexer] = value instead\n",
            "\n",
            "See the caveats in the documentation: https://pandas.pydata.org/pandas-docs/stable/user_guide/indexing.html#returning-a-view-versus-a-copy\n",
            "  self[name] = value\n"
          ]
        },
        {
          "output_type": "execute_result",
          "data": {
            "text/plain": [
              "0        624.0\n",
              "1        624.0\n",
              "2        624.0\n",
              "3        624.0\n",
              "4        624.0\n",
              "         ...  \n",
              "1271    1498.0\n",
              "1272    1498.0\n",
              "1273    1497.0\n",
              "1274    1497.0\n",
              "1275    3200.0\n",
              "Name: Displacement, Length: 1276, dtype: float64"
            ]
          },
          "metadata": {},
          "execution_count": 152
        }
      ]
    },
    {
      "cell_type": "code",
      "source": [
        "df2.Displacement"
      ],
      "metadata": {
        "colab": {
          "base_uri": "https://localhost:8080/"
        },
        "id": "4DlEZ4mGND63",
        "outputId": "c8a0ce90-a9e5-4765-9e88-99197967e8d3"
      },
      "execution_count": 153,
      "outputs": [
        {
          "output_type": "execute_result",
          "data": {
            "text/plain": [
              "0        624.0\n",
              "1        624.0\n",
              "2        624.0\n",
              "3        624.0\n",
              "4        624.0\n",
              "         ...  \n",
              "1271    1498.0\n",
              "1272    1498.0\n",
              "1273    1497.0\n",
              "1274    1497.0\n",
              "1275    3200.0\n",
              "Name: Displacement, Length: 1276, dtype: float64"
            ]
          },
          "metadata": {},
          "execution_count": 153
        }
      ]
    },
    {
      "cell_type": "code",
      "source": [
        "df2.Displacement.isnull().sum()"
      ],
      "metadata": {
        "colab": {
          "base_uri": "https://localhost:8080/"
        },
        "id": "DEvf17iwN0qG",
        "outputId": "7620292d-4e84-4b3f-9898-db62564a25bb"
      },
      "execution_count": 154,
      "outputs": [
        {
          "output_type": "execute_result",
          "data": {
            "text/plain": [
              "0"
            ]
          },
          "metadata": {},
          "execution_count": 154
        }
      ]
    },
    {
      "cell_type": "code",
      "source": [
        "df2.isnull().sum()"
      ],
      "metadata": {
        "colab": {
          "base_uri": "https://localhost:8080/"
        },
        "id": "Yt3BkYTiN4CM",
        "outputId": "15edc49f-0eb1-4133-86e4-97b1bdd37249"
      },
      "execution_count": 155,
      "outputs": [
        {
          "output_type": "execute_result",
          "data": {
            "text/plain": [
              "Make                     0\n",
              "Model                    0\n",
              "Variant                  0\n",
              "Displacement             0\n",
              "Ex-Showroom_Price        0\n",
              "Cylinders               66\n",
              "Valves_Per_Cylinder    102\n",
              "Emission_Norm           11\n",
              "Fuel_Type                0\n",
              "Body_Type                6\n",
              "City_Mileage           555\n",
              "Power                    0\n",
              "Torque                   2\n",
              "Seating_Capacity         6\n",
              "Boot_Space             249\n",
              "Number_of_Airbags      135\n",
              "dtype: int64"
            ]
          },
          "metadata": {},
          "execution_count": 155
        }
      ]
    },
    {
      "cell_type": "code",
      "source": [
        "df2.Cylinders.median()"
      ],
      "metadata": {
        "colab": {
          "base_uri": "https://localhost:8080/"
        },
        "id": "7ZyALzVjKTpP",
        "outputId": "66a0811e-6cbc-4374-c475-e8ff880551a6"
      },
      "execution_count": 156,
      "outputs": [
        {
          "output_type": "execute_result",
          "data": {
            "text/plain": [
              "4.0"
            ]
          },
          "metadata": {},
          "execution_count": 156
        }
      ]
    },
    {
      "cell_type": "markdown",
      "source": [
        "**Filling NaN with Mode of the data**"
      ],
      "metadata": {
        "id": "nkrgX1gq3Zpn"
      }
    },
    {
      "cell_type": "code",
      "source": [
        "df2.Cylinders.fillna(4,inplace=True)"
      ],
      "metadata": {
        "colab": {
          "base_uri": "https://localhost:8080/"
        },
        "id": "DNUVs1ejKbzN",
        "outputId": "48c46c2e-cc01-4d03-d4d4-058ef5f37e8a"
      },
      "execution_count": 157,
      "outputs": [
        {
          "output_type": "stream",
          "name": "stderr",
          "text": [
            "/usr/local/lib/python3.7/dist-packages/pandas/core/generic.py:6392: SettingWithCopyWarning: \n",
            "A value is trying to be set on a copy of a slice from a DataFrame\n",
            "\n",
            "See the caveats in the documentation: https://pandas.pydata.org/pandas-docs/stable/user_guide/indexing.html#returning-a-view-versus-a-copy\n",
            "  return self._update_inplace(result)\n"
          ]
        }
      ]
    },
    {
      "cell_type": "code",
      "source": [
        "df2.Cylinders"
      ],
      "metadata": {
        "colab": {
          "base_uri": "https://localhost:8080/"
        },
        "id": "Q1Xb3ZbtKpss",
        "outputId": "06aa33f9-13a3-431c-dcb9-964e09c2ce3a"
      },
      "execution_count": 158,
      "outputs": [
        {
          "output_type": "execute_result",
          "data": {
            "text/plain": [
              "0       2.0\n",
              "1       2.0\n",
              "2       2.0\n",
              "3       2.0\n",
              "4       2.0\n",
              "       ... \n",
              "1271    4.0\n",
              "1272    4.0\n",
              "1273    4.0\n",
              "1274    4.0\n",
              "1275    4.0\n",
              "Name: Cylinders, Length: 1276, dtype: float64"
            ]
          },
          "metadata": {},
          "execution_count": 158
        }
      ]
    },
    {
      "cell_type": "code",
      "source": [
        "df2.Valves_Per_Cylinder.median()\n",
        "df2.Valves_Per_Cylinder.fillna(4,inplace=True)"
      ],
      "metadata": {
        "colab": {
          "base_uri": "https://localhost:8080/"
        },
        "id": "SG9n1XHFKr_r",
        "outputId": "5f24236c-e1d6-4486-e503-6d662509b897"
      },
      "execution_count": 159,
      "outputs": [
        {
          "output_type": "stream",
          "name": "stderr",
          "text": [
            "/usr/local/lib/python3.7/dist-packages/pandas/core/generic.py:6392: SettingWithCopyWarning: \n",
            "A value is trying to be set on a copy of a slice from a DataFrame\n",
            "\n",
            "See the caveats in the documentation: https://pandas.pydata.org/pandas-docs/stable/user_guide/indexing.html#returning-a-view-versus-a-copy\n",
            "  return self._update_inplace(result)\n"
          ]
        }
      ]
    },
    {
      "cell_type": "code",
      "source": [
        "df2.isnull().sum()"
      ],
      "metadata": {
        "colab": {
          "base_uri": "https://localhost:8080/"
        },
        "id": "VHSbgKSRK3Pm",
        "outputId": "4afa3f3f-ebe3-4f41-c2a8-8c09b2dc2991"
      },
      "execution_count": 160,
      "outputs": [
        {
          "output_type": "execute_result",
          "data": {
            "text/plain": [
              "Make                     0\n",
              "Model                    0\n",
              "Variant                  0\n",
              "Displacement             0\n",
              "Ex-Showroom_Price        0\n",
              "Cylinders                0\n",
              "Valves_Per_Cylinder      0\n",
              "Emission_Norm           11\n",
              "Fuel_Type                0\n",
              "Body_Type                6\n",
              "City_Mileage           555\n",
              "Power                    0\n",
              "Torque                   2\n",
              "Seating_Capacity         6\n",
              "Boot_Space             249\n",
              "Number_of_Airbags      135\n",
              "dtype: int64"
            ]
          },
          "metadata": {},
          "execution_count": 160
        }
      ]
    },
    {
      "cell_type": "code",
      "source": [
        "df2.Emission_Norm.value_counts()"
      ],
      "metadata": {
        "colab": {
          "base_uri": "https://localhost:8080/"
        },
        "id": "7CXUCvmZK5jc",
        "outputId": "364972c5-529f-4db8-c538-3db84d34579a"
      },
      "execution_count": 161,
      "outputs": [
        {
          "output_type": "execute_result",
          "data": {
            "text/plain": [
              "BS IV     879\n",
              "BS 6      358\n",
              "BS VI      19\n",
              "BS III      9\n",
              "Name: Emission_Norm, dtype: int64"
            ]
          },
          "metadata": {},
          "execution_count": 161
        }
      ]
    },
    {
      "cell_type": "code",
      "source": [
        "df2['Emission_Norm'].fillna('BS IV',inplace=True)"
      ],
      "metadata": {
        "colab": {
          "base_uri": "https://localhost:8080/"
        },
        "id": "afOmNFR_Qs2e",
        "outputId": "d8427528-ac25-4247-817a-cbefacbdff81"
      },
      "execution_count": 162,
      "outputs": [
        {
          "output_type": "stream",
          "name": "stderr",
          "text": [
            "/usr/local/lib/python3.7/dist-packages/pandas/core/generic.py:6392: SettingWithCopyWarning: \n",
            "A value is trying to be set on a copy of a slice from a DataFrame\n",
            "\n",
            "See the caveats in the documentation: https://pandas.pydata.org/pandas-docs/stable/user_guide/indexing.html#returning-a-view-versus-a-copy\n",
            "  return self._update_inplace(result)\n"
          ]
        }
      ]
    },
    {
      "cell_type": "code",
      "source": [
        "df2.Emission_Norm.value_counts()"
      ],
      "metadata": {
        "colab": {
          "base_uri": "https://localhost:8080/"
        },
        "id": "3rBhbQpWRAPh",
        "outputId": "d9a0f0a2-f6a9-41a4-8d0c-2b302a3847a4"
      },
      "execution_count": 163,
      "outputs": [
        {
          "output_type": "execute_result",
          "data": {
            "text/plain": [
              "BS IV     890\n",
              "BS 6      358\n",
              "BS VI      19\n",
              "BS III      9\n",
              "Name: Emission_Norm, dtype: int64"
            ]
          },
          "metadata": {},
          "execution_count": 163
        }
      ]
    },
    {
      "cell_type": "code",
      "source": [
        "df2.isnull().sum()"
      ],
      "metadata": {
        "colab": {
          "base_uri": "https://localhost:8080/"
        },
        "id": "wgpkqL6TRCVA",
        "outputId": "46bfb17a-4600-4656-84f5-d910ceb08a22"
      },
      "execution_count": 164,
      "outputs": [
        {
          "output_type": "execute_result",
          "data": {
            "text/plain": [
              "Make                     0\n",
              "Model                    0\n",
              "Variant                  0\n",
              "Displacement             0\n",
              "Ex-Showroom_Price        0\n",
              "Cylinders                0\n",
              "Valves_Per_Cylinder      0\n",
              "Emission_Norm            0\n",
              "Fuel_Type                0\n",
              "Body_Type                6\n",
              "City_Mileage           555\n",
              "Power                    0\n",
              "Torque                   2\n",
              "Seating_Capacity         6\n",
              "Boot_Space             249\n",
              "Number_of_Airbags      135\n",
              "dtype: int64"
            ]
          },
          "metadata": {},
          "execution_count": 164
        }
      ]
    },
    {
      "cell_type": "code",
      "source": [
        "df2.City_Mileage"
      ],
      "metadata": {
        "colab": {
          "base_uri": "https://localhost:8080/"
        },
        "id": "nz7ME0MVREtE",
        "outputId": "c147d2e9-9a00-4a2e-81f8-f97552067604"
      },
      "execution_count": 165,
      "outputs": [
        {
          "output_type": "execute_result",
          "data": {
            "text/plain": [
              "0       ?23.6 km/litre\n",
              "1       ?23.6 km/litre\n",
              "2                  NaN\n",
              "3       ?23.6 km/litre\n",
              "4       ?23.6 km/litre\n",
              "             ...      \n",
              "1271     22.6 km/litre\n",
              "1272     22.6 km/litre\n",
              "1273       18 km/litre\n",
              "1274     14.3 km/litre\n",
              "1275     8.25 km/litre\n",
              "Name: City_Mileage, Length: 1276, dtype: object"
            ]
          },
          "metadata": {},
          "execution_count": 165
        }
      ]
    },
    {
      "cell_type": "code",
      "source": [
        "df2.City_Mileage=df2['City_Mileage'].str.replace('km/litre',\" \") \n",
        "df2.City_Mileage=df2['City_Mileage'].str.replace(\"?\",\" \")"
      ],
      "metadata": {
        "colab": {
          "base_uri": "https://localhost:8080/"
        },
        "id": "xTNcDf6SSOu9",
        "outputId": "5758a7ab-d4fb-4fb3-e336-29abfb810f31"
      },
      "execution_count": 166,
      "outputs": [
        {
          "output_type": "stream",
          "name": "stderr",
          "text": [
            "/usr/local/lib/python3.7/dist-packages/pandas/core/generic.py:5516: SettingWithCopyWarning: \n",
            "A value is trying to be set on a copy of a slice from a DataFrame.\n",
            "Try using .loc[row_indexer,col_indexer] = value instead\n",
            "\n",
            "See the caveats in the documentation: https://pandas.pydata.org/pandas-docs/stable/user_guide/indexing.html#returning-a-view-versus-a-copy\n",
            "  self[name] = value\n",
            "/usr/local/lib/python3.7/dist-packages/ipykernel_launcher.py:2: FutureWarning: The default value of regex will change from True to False in a future version. In addition, single character regular expressions will *not* be treated as literal strings when regex=True.\n",
            "  \n"
          ]
        }
      ]
    },
    {
      "cell_type": "code",
      "source": [
        "df2.City_Mileage"
      ],
      "metadata": {
        "colab": {
          "base_uri": "https://localhost:8080/"
        },
        "id": "64ulFZoXUFk7",
        "outputId": "03bf38e8-bd37-4bd5-b74e-cc3535875f28"
      },
      "execution_count": 167,
      "outputs": [
        {
          "output_type": "execute_result",
          "data": {
            "text/plain": [
              "0        23.6  \n",
              "1        23.6  \n",
              "2           NaN\n",
              "3        23.6  \n",
              "4        23.6  \n",
              "         ...   \n",
              "1271     22.6  \n",
              "1272     22.6  \n",
              "1273       18  \n",
              "1274     14.3  \n",
              "1275     8.25  \n",
              "Name: City_Mileage, Length: 1276, dtype: object"
            ]
          },
          "metadata": {},
          "execution_count": 167
        }
      ]
    },
    {
      "cell_type": "code",
      "source": [
        "df2['City_Mileage']=pd.to_numeric(df2['City_Mileage'],errors='coerce')"
      ],
      "metadata": {
        "colab": {
          "base_uri": "https://localhost:8080/"
        },
        "id": "0EkWUaDpUHk9",
        "outputId": "32e5e464-3356-4386-fc00-fff023730a06"
      },
      "execution_count": 168,
      "outputs": [
        {
          "output_type": "stream",
          "name": "stderr",
          "text": [
            "/usr/local/lib/python3.7/dist-packages/ipykernel_launcher.py:1: SettingWithCopyWarning: \n",
            "A value is trying to be set on a copy of a slice from a DataFrame.\n",
            "Try using .loc[row_indexer,col_indexer] = value instead\n",
            "\n",
            "See the caveats in the documentation: https://pandas.pydata.org/pandas-docs/stable/user_guide/indexing.html#returning-a-view-versus-a-copy\n",
            "  \"\"\"Entry point for launching an IPython kernel.\n"
          ]
        }
      ]
    },
    {
      "cell_type": "code",
      "source": [
        "df2.City_Mileage.fillna(0,inplace=True)"
      ],
      "metadata": {
        "colab": {
          "base_uri": "https://localhost:8080/"
        },
        "id": "A0frR_RXUItK",
        "outputId": "b91d2ba4-c8f6-4c8a-86de-311776721b34"
      },
      "execution_count": 169,
      "outputs": [
        {
          "output_type": "stream",
          "name": "stderr",
          "text": [
            "/usr/local/lib/python3.7/dist-packages/pandas/core/generic.py:6392: SettingWithCopyWarning: \n",
            "A value is trying to be set on a copy of a slice from a DataFrame\n",
            "\n",
            "See the caveats in the documentation: https://pandas.pydata.org/pandas-docs/stable/user_guide/indexing.html#returning-a-view-versus-a-copy\n",
            "  return self._update_inplace(result)\n"
          ]
        }
      ]
    },
    {
      "cell_type": "code",
      "source": [
        "df2.City_Mileage"
      ],
      "metadata": {
        "colab": {
          "base_uri": "https://localhost:8080/"
        },
        "id": "d6kdCADSWKD-",
        "outputId": "0a801977-2d00-4434-c15b-e0db134822de"
      },
      "execution_count": 170,
      "outputs": [
        {
          "output_type": "execute_result",
          "data": {
            "text/plain": [
              "0       23.60\n",
              "1       23.60\n",
              "2        0.00\n",
              "3       23.60\n",
              "4       23.60\n",
              "        ...  \n",
              "1271    22.60\n",
              "1272    22.60\n",
              "1273    18.00\n",
              "1274    14.30\n",
              "1275     8.25\n",
              "Name: City_Mileage, Length: 1276, dtype: float64"
            ]
          },
          "metadata": {},
          "execution_count": 170
        }
      ]
    },
    {
      "cell_type": "markdown",
      "source": [
        "**Replacing NaN with Mean**"
      ],
      "metadata": {
        "id": "6s3c3L8i3k2d"
      }
    },
    {
      "cell_type": "code",
      "source": [
        "df2.City_Mileage.mean()"
      ],
      "metadata": {
        "colab": {
          "base_uri": "https://localhost:8080/"
        },
        "id": "oiN-RW-mUW7g",
        "outputId": "8955d00b-f879-4857-effc-edbb95441b9c"
      },
      "execution_count": 171,
      "outputs": [
        {
          "output_type": "execute_result",
          "data": {
            "text/plain": [
              "28.86217084639498"
            ]
          },
          "metadata": {},
          "execution_count": 171
        }
      ]
    },
    {
      "cell_type": "code",
      "source": [
        "df2.City_Mileage=df2['City_Mileage'].replace(0,28.86)"
      ],
      "metadata": {
        "colab": {
          "base_uri": "https://localhost:8080/"
        },
        "id": "OEl-LHyuUneq",
        "outputId": "c18f19ed-4e28-4685-a91d-9660d5bea5ac"
      },
      "execution_count": 172,
      "outputs": [
        {
          "output_type": "stream",
          "name": "stderr",
          "text": [
            "/usr/local/lib/python3.7/dist-packages/pandas/core/generic.py:5516: SettingWithCopyWarning: \n",
            "A value is trying to be set on a copy of a slice from a DataFrame.\n",
            "Try using .loc[row_indexer,col_indexer] = value instead\n",
            "\n",
            "See the caveats in the documentation: https://pandas.pydata.org/pandas-docs/stable/user_guide/indexing.html#returning-a-view-versus-a-copy\n",
            "  self[name] = value\n"
          ]
        }
      ]
    },
    {
      "cell_type": "code",
      "source": [
        "df2.City_Mileage.value_counts()"
      ],
      "metadata": {
        "colab": {
          "base_uri": "https://localhost:8080/"
        },
        "id": "XJLQ9cj0UxGR",
        "outputId": "b940c94d-3c8a-41d8-87dc-8b0133703169"
      },
      "execution_count": 173,
      "outputs": [
        {
          "output_type": "execute_result",
          "data": {
            "text/plain": [
              "28.86    589\n",
              "12.00     38\n",
              "16.00     30\n",
              "18.00     26\n",
              "14.00     20\n",
              "        ... \n",
              "18.80      1\n",
              "7.00       1\n",
              "13.05      1\n",
              "7.45       1\n",
              "8.25       1\n",
              "Name: City_Mileage, Length: 150, dtype: int64"
            ]
          },
          "metadata": {},
          "execution_count": 173
        }
      ]
    },
    {
      "cell_type": "code",
      "source": [
        "df2.isnull().sum()"
      ],
      "metadata": {
        "colab": {
          "base_uri": "https://localhost:8080/"
        },
        "id": "8W8B4EJvZHSL",
        "outputId": "148f598e-7e20-463b-876a-07332d4bc911"
      },
      "execution_count": 174,
      "outputs": [
        {
          "output_type": "execute_result",
          "data": {
            "text/plain": [
              "Make                     0\n",
              "Model                    0\n",
              "Variant                  0\n",
              "Displacement             0\n",
              "Ex-Showroom_Price        0\n",
              "Cylinders                0\n",
              "Valves_Per_Cylinder      0\n",
              "Emission_Norm            0\n",
              "Fuel_Type                0\n",
              "Body_Type                6\n",
              "City_Mileage             0\n",
              "Power                    0\n",
              "Torque                   2\n",
              "Seating_Capacity         6\n",
              "Boot_Space             249\n",
              "Number_of_Airbags      135\n",
              "dtype: int64"
            ]
          },
          "metadata": {},
          "execution_count": 174
        }
      ]
    },
    {
      "cell_type": "code",
      "source": [
        "df2['Ex-Showroom_Price']=df2['Ex-Showroom_Price'].str.replace('Rs. ',\" \").str.replace(',','')"
      ],
      "metadata": {
        "colab": {
          "base_uri": "https://localhost:8080/"
        },
        "id": "4QKiwwo3aSV7",
        "outputId": "1a1d997a-a7c1-4238-f235-9948b06ded5a"
      },
      "execution_count": 175,
      "outputs": [
        {
          "output_type": "stream",
          "name": "stderr",
          "text": [
            "/usr/local/lib/python3.7/dist-packages/ipykernel_launcher.py:1: FutureWarning: The default value of regex will change from True to False in a future version.\n",
            "  \"\"\"Entry point for launching an IPython kernel.\n",
            "/usr/local/lib/python3.7/dist-packages/ipykernel_launcher.py:1: SettingWithCopyWarning: \n",
            "A value is trying to be set on a copy of a slice from a DataFrame.\n",
            "Try using .loc[row_indexer,col_indexer] = value instead\n",
            "\n",
            "See the caveats in the documentation: https://pandas.pydata.org/pandas-docs/stable/user_guide/indexing.html#returning-a-view-versus-a-copy\n",
            "  \"\"\"Entry point for launching an IPython kernel.\n"
          ]
        }
      ]
    },
    {
      "cell_type": "code",
      "source": [
        "df2['Ex-Showroom_Price']"
      ],
      "metadata": {
        "colab": {
          "base_uri": "https://localhost:8080/"
        },
        "id": "bhfikABwaqng",
        "outputId": "4e74edcb-ca4d-4c6c-df55-7224d0a8b305"
      },
      "execution_count": 176,
      "outputs": [
        {
          "output_type": "execute_result",
          "data": {
            "text/plain": [
              "0         292667\n",
              "1         236447\n",
              "2         296661\n",
              "3         334768\n",
              "4         272223\n",
              "          ...   \n",
              "1271     1302000\n",
              "1272     1421000\n",
              "1273     1431000\n",
              "1274     1201000\n",
              "1275     6862560\n",
              "Name: Ex-Showroom_Price, Length: 1276, dtype: object"
            ]
          },
          "metadata": {},
          "execution_count": 176
        }
      ]
    },
    {
      "cell_type": "code",
      "source": [
        "df2['Ex-Showroom_Price'] = pd.to_numeric(df2['Ex-Showroom_Price'],errors='coerce')\n",
        "df2['Ex-Showroom_Price']"
      ],
      "metadata": {
        "colab": {
          "base_uri": "https://localhost:8080/"
        },
        "id": "EM6OhSSHawsB",
        "outputId": "407a4e96-f47e-4232-8581-da13a233c251"
      },
      "execution_count": 177,
      "outputs": [
        {
          "output_type": "stream",
          "name": "stderr",
          "text": [
            "/usr/local/lib/python3.7/dist-packages/ipykernel_launcher.py:1: SettingWithCopyWarning: \n",
            "A value is trying to be set on a copy of a slice from a DataFrame.\n",
            "Try using .loc[row_indexer,col_indexer] = value instead\n",
            "\n",
            "See the caveats in the documentation: https://pandas.pydata.org/pandas-docs/stable/user_guide/indexing.html#returning-a-view-versus-a-copy\n",
            "  \"\"\"Entry point for launching an IPython kernel.\n"
          ]
        },
        {
          "output_type": "execute_result",
          "data": {
            "text/plain": [
              "0        292667\n",
              "1        236447\n",
              "2        296661\n",
              "3        334768\n",
              "4        272223\n",
              "         ...   \n",
              "1271    1302000\n",
              "1272    1421000\n",
              "1273    1431000\n",
              "1274    1201000\n",
              "1275    6862560\n",
              "Name: Ex-Showroom_Price, Length: 1276, dtype: int64"
            ]
          },
          "metadata": {},
          "execution_count": 177
        }
      ]
    },
    {
      "cell_type": "code",
      "source": [
        "df2.Body_Type.mode()"
      ],
      "metadata": {
        "colab": {
          "base_uri": "https://localhost:8080/"
        },
        "id": "c3DVxRpla4Z0",
        "outputId": "5961d122-f82b-4731-ae55-2898835f0324"
      },
      "execution_count": 178,
      "outputs": [
        {
          "output_type": "execute_result",
          "data": {
            "text/plain": [
              "0    SUV\n",
              "dtype: object"
            ]
          },
          "metadata": {},
          "execution_count": 178
        }
      ]
    },
    {
      "cell_type": "code",
      "source": [
        "df2.Body_Type.fillna('SUV',inplace=True)"
      ],
      "metadata": {
        "colab": {
          "base_uri": "https://localhost:8080/"
        },
        "id": "qG1D1Ausleof",
        "outputId": "87507245-f631-48f9-b90f-4a88e1598a06"
      },
      "execution_count": 179,
      "outputs": [
        {
          "output_type": "stream",
          "name": "stderr",
          "text": [
            "/usr/local/lib/python3.7/dist-packages/pandas/core/generic.py:6392: SettingWithCopyWarning: \n",
            "A value is trying to be set on a copy of a slice from a DataFrame\n",
            "\n",
            "See the caveats in the documentation: https://pandas.pydata.org/pandas-docs/stable/user_guide/indexing.html#returning-a-view-versus-a-copy\n",
            "  return self._update_inplace(result)\n"
          ]
        }
      ]
    },
    {
      "cell_type": "code",
      "source": [
        "df2.isnull().sum()\n"
      ],
      "metadata": {
        "colab": {
          "base_uri": "https://localhost:8080/"
        },
        "id": "pHEvJRVJlsCC",
        "outputId": "e50da5ef-3e8a-4508-933f-e19bc455b58f"
      },
      "execution_count": 180,
      "outputs": [
        {
          "output_type": "execute_result",
          "data": {
            "text/plain": [
              "Make                     0\n",
              "Model                    0\n",
              "Variant                  0\n",
              "Displacement             0\n",
              "Ex-Showroom_Price        0\n",
              "Cylinders                0\n",
              "Valves_Per_Cylinder      0\n",
              "Emission_Norm            0\n",
              "Fuel_Type                0\n",
              "Body_Type                0\n",
              "City_Mileage             0\n",
              "Power                    0\n",
              "Torque                   2\n",
              "Seating_Capacity         6\n",
              "Boot_Space             249\n",
              "Number_of_Airbags      135\n",
              "dtype: int64"
            ]
          },
          "metadata": {},
          "execution_count": 180
        }
      ]
    },
    {
      "cell_type": "code",
      "source": [
        "df2.Seating_Capacity.isnull().sum()"
      ],
      "metadata": {
        "colab": {
          "base_uri": "https://localhost:8080/"
        },
        "id": "u9j44RhSluif",
        "outputId": "4e6820f2-ef33-459d-935d-fa3818c9d4b0"
      },
      "execution_count": 181,
      "outputs": [
        {
          "output_type": "execute_result",
          "data": {
            "text/plain": [
              "6"
            ]
          },
          "metadata": {},
          "execution_count": 181
        }
      ]
    },
    {
      "cell_type": "code",
      "source": [
        "df2.Seating_Capacity.fillna('5.0',inplace=True)"
      ],
      "metadata": {
        "colab": {
          "base_uri": "https://localhost:8080/"
        },
        "id": "DHV-ghqLmFvh",
        "outputId": "b915264c-7867-4e1d-c235-aeef0303ac7c"
      },
      "execution_count": 182,
      "outputs": [
        {
          "output_type": "stream",
          "name": "stderr",
          "text": [
            "/usr/local/lib/python3.7/dist-packages/pandas/core/generic.py:6392: SettingWithCopyWarning: \n",
            "A value is trying to be set on a copy of a slice from a DataFrame\n",
            "\n",
            "See the caveats in the documentation: https://pandas.pydata.org/pandas-docs/stable/user_guide/indexing.html#returning-a-view-versus-a-copy\n",
            "  return self._update_inplace(result)\n"
          ]
        }
      ]
    },
    {
      "cell_type": "code",
      "source": [
        "df2.isnull().sum()"
      ],
      "metadata": {
        "colab": {
          "base_uri": "https://localhost:8080/"
        },
        "id": "K3V9Oh-cmQR4",
        "outputId": "1d8d7c4a-5cb1-433f-9574-24feda60cac7"
      },
      "execution_count": 183,
      "outputs": [
        {
          "output_type": "execute_result",
          "data": {
            "text/plain": [
              "Make                     0\n",
              "Model                    0\n",
              "Variant                  0\n",
              "Displacement             0\n",
              "Ex-Showroom_Price        0\n",
              "Cylinders                0\n",
              "Valves_Per_Cylinder      0\n",
              "Emission_Norm            0\n",
              "Fuel_Type                0\n",
              "Body_Type                0\n",
              "City_Mileage             0\n",
              "Power                    0\n",
              "Torque                   2\n",
              "Seating_Capacity         0\n",
              "Boot_Space             249\n",
              "Number_of_Airbags      135\n",
              "dtype: int64"
            ]
          },
          "metadata": {},
          "execution_count": 183
        }
      ]
    },
    {
      "cell_type": "code",
      "source": [
        "df2.Boot_Space.value_counts()"
      ],
      "metadata": {
        "colab": {
          "base_uri": "https://localhost:8080/"
        },
        "id": "SB1oDS6ymSpl",
        "outputId": "ad2c2931-6e4f-456d-e21e-5454eaf94aa8"
      },
      "execution_count": 184,
      "outputs": [
        {
          "output_type": "execute_result",
          "data": {
            "text/plain": [
              "350 litres     44\n",
              "475 litres     35\n",
              "460 litres     31\n",
              "510 litres     30\n",
              "251 litres     28\n",
              "               ..\n",
              "770 litres      1\n",
              "621 litres      1\n",
              "535 litres      1\n",
              "173 litres      1\n",
              "1050 litres     1\n",
              "Name: Boot_Space, Length: 138, dtype: int64"
            ]
          },
          "metadata": {},
          "execution_count": 184
        }
      ]
    },
    {
      "cell_type": "code",
      "source": [
        "df2.Boot_Space=df2.Boot_Space.str.replace('litres',' ')\n"
      ],
      "metadata": {
        "colab": {
          "base_uri": "https://localhost:8080/"
        },
        "id": "yVUglSQFmXon",
        "outputId": "37790018-778c-4d05-cc29-f8a8e86f0eee"
      },
      "execution_count": 185,
      "outputs": [
        {
          "output_type": "stream",
          "name": "stderr",
          "text": [
            "/usr/local/lib/python3.7/dist-packages/pandas/core/generic.py:5516: SettingWithCopyWarning: \n",
            "A value is trying to be set on a copy of a slice from a DataFrame.\n",
            "Try using .loc[row_indexer,col_indexer] = value instead\n",
            "\n",
            "See the caveats in the documentation: https://pandas.pydata.org/pandas-docs/stable/user_guide/indexing.html#returning-a-view-versus-a-copy\n",
            "  self[name] = value\n"
          ]
        }
      ]
    },
    {
      "cell_type": "code",
      "source": [
        "df2.Boot_Space"
      ],
      "metadata": {
        "colab": {
          "base_uri": "https://localhost:8080/"
        },
        "id": "yY3EL9Bym7hM",
        "outputId": "b14b78cc-13a8-4a27-c704-8520d95cf84f"
      },
      "execution_count": 186,
      "outputs": [
        {
          "output_type": "execute_result",
          "data": {
            "text/plain": [
              "0        110  \n",
              "1        110  \n",
              "2        110  \n",
              "3         94  \n",
              "4        110  \n",
              "         ...  \n",
              "1271     510  \n",
              "1272     510  \n",
              "1273     510  \n",
              "1274     510  \n",
              "1275    1050  \n",
              "Name: Boot_Space, Length: 1276, dtype: object"
            ]
          },
          "metadata": {},
          "execution_count": 186
        }
      ]
    },
    {
      "cell_type": "code",
      "source": [
        "df2['Boot_Space'].fillna(0,inplace=True)"
      ],
      "metadata": {
        "colab": {
          "base_uri": "https://localhost:8080/"
        },
        "id": "kmsNICOGm9Vz",
        "outputId": "c49b4db3-9c5c-4e61-bb39-57b6ebe4e419"
      },
      "execution_count": 187,
      "outputs": [
        {
          "output_type": "stream",
          "name": "stderr",
          "text": [
            "/usr/local/lib/python3.7/dist-packages/pandas/core/generic.py:6392: SettingWithCopyWarning: \n",
            "A value is trying to be set on a copy of a slice from a DataFrame\n",
            "\n",
            "See the caveats in the documentation: https://pandas.pydata.org/pandas-docs/stable/user_guide/indexing.html#returning-a-view-versus-a-copy\n",
            "  return self._update_inplace(result)\n"
          ]
        }
      ]
    },
    {
      "cell_type": "code",
      "source": [
        "df2['Boot_Space'] = pd.to_numeric(df2['Boot_Space'],errors='coerce')\n"
      ],
      "metadata": {
        "colab": {
          "base_uri": "https://localhost:8080/"
        },
        "id": "HBeL6_btoaUL",
        "outputId": "edd17be6-1372-4be7-b20e-4d815ab3453c"
      },
      "execution_count": 188,
      "outputs": [
        {
          "output_type": "stream",
          "name": "stderr",
          "text": [
            "/usr/local/lib/python3.7/dist-packages/ipykernel_launcher.py:1: SettingWithCopyWarning: \n",
            "A value is trying to be set on a copy of a slice from a DataFrame.\n",
            "Try using .loc[row_indexer,col_indexer] = value instead\n",
            "\n",
            "See the caveats in the documentation: https://pandas.pydata.org/pandas-docs/stable/user_guide/indexing.html#returning-a-view-versus-a-copy\n",
            "  \"\"\"Entry point for launching an IPython kernel.\n"
          ]
        }
      ]
    },
    {
      "cell_type": "code",
      "source": [
        "df2['Boot_Space'].mean()"
      ],
      "metadata": {
        "colab": {
          "base_uri": "https://localhost:8080/"
        },
        "id": "zMV1K_izpPEq",
        "outputId": "0092e242-7aa0-45d5-8f26-ad9453fd347b"
      },
      "execution_count": 189,
      "outputs": [
        {
          "output_type": "execute_result",
          "data": {
            "text/plain": [
              "312.6831097079716"
            ]
          },
          "metadata": {},
          "execution_count": 189
        }
      ]
    },
    {
      "cell_type": "code",
      "source": [
        "df2.Boot_Space=df2['Boot_Space'].replace(0,312)"
      ],
      "metadata": {
        "colab": {
          "base_uri": "https://localhost:8080/"
        },
        "id": "IhLMpBJyrh7B",
        "outputId": "e758989e-22c6-42dd-f068-c8403f265e8a"
      },
      "execution_count": 190,
      "outputs": [
        {
          "output_type": "stream",
          "name": "stderr",
          "text": [
            "/usr/local/lib/python3.7/dist-packages/pandas/core/generic.py:5516: SettingWithCopyWarning: \n",
            "A value is trying to be set on a copy of a slice from a DataFrame.\n",
            "Try using .loc[row_indexer,col_indexer] = value instead\n",
            "\n",
            "See the caveats in the documentation: https://pandas.pydata.org/pandas-docs/stable/user_guide/indexing.html#returning-a-view-versus-a-copy\n",
            "  self[name] = value\n"
          ]
        }
      ]
    },
    {
      "cell_type": "code",
      "source": [
        "df2['Boot_Space'].value_counts()"
      ],
      "metadata": {
        "colab": {
          "base_uri": "https://localhost:8080/"
        },
        "id": "MlxHhUoEsCv1",
        "outputId": "506be003-7dd9-4786-86ab-368e4ce6dc2a"
      },
      "execution_count": 191,
      "outputs": [
        {
          "output_type": "execute_result",
          "data": {
            "text/plain": [
              "312.0     249\n",
              "350.0      44\n",
              "475.0      35\n",
              "460.0      31\n",
              "510.0      30\n",
              "         ... \n",
              "745.0       1\n",
              "770.0       1\n",
              "621.0       1\n",
              "535.0       1\n",
              "1050.0      1\n",
              "Name: Boot_Space, Length: 138, dtype: int64"
            ]
          },
          "metadata": {},
          "execution_count": 191
        }
      ]
    },
    {
      "cell_type": "code",
      "source": [
        "df2.isnull().sum()"
      ],
      "metadata": {
        "colab": {
          "base_uri": "https://localhost:8080/"
        },
        "id": "x314CwMrsO2I",
        "outputId": "815661ec-868d-4176-ef4a-3cafca392be8"
      },
      "execution_count": 192,
      "outputs": [
        {
          "output_type": "execute_result",
          "data": {
            "text/plain": [
              "Make                     0\n",
              "Model                    0\n",
              "Variant                  0\n",
              "Displacement             0\n",
              "Ex-Showroom_Price        0\n",
              "Cylinders                0\n",
              "Valves_Per_Cylinder      0\n",
              "Emission_Norm            0\n",
              "Fuel_Type                0\n",
              "Body_Type                0\n",
              "City_Mileage             0\n",
              "Power                    0\n",
              "Torque                   2\n",
              "Seating_Capacity         0\n",
              "Boot_Space               9\n",
              "Number_of_Airbags      135\n",
              "dtype: int64"
            ]
          },
          "metadata": {},
          "execution_count": 192
        }
      ]
    },
    {
      "cell_type": "code",
      "source": [
        "df2.Number_of_Airbags.describe()"
      ],
      "metadata": {
        "colab": {
          "base_uri": "https://localhost:8080/"
        },
        "id": "q8qTrg8XsXKI",
        "outputId": "7e642ad0-5b96-47b9-cbda-3cec8a204663"
      },
      "execution_count": 193,
      "outputs": [
        {
          "output_type": "execute_result",
          "data": {
            "text/plain": [
              "count    1141.000000\n",
              "mean        3.787029\n",
              "std         2.522399\n",
              "min         1.000000\n",
              "25%         2.000000\n",
              "50%         2.000000\n",
              "75%         6.000000\n",
              "max        14.000000\n",
              "Name: Number_of_Airbags, dtype: float64"
            ]
          },
          "metadata": {},
          "execution_count": 193
        }
      ]
    },
    {
      "cell_type": "code",
      "source": [
        "df2['Number_of_Airbags'].fillna(4,inplace=True)"
      ],
      "metadata": {
        "colab": {
          "base_uri": "https://localhost:8080/"
        },
        "id": "ELXDsTSkugOl",
        "outputId": "2486896a-6a96-4e64-a224-9b9a0721580e"
      },
      "execution_count": 194,
      "outputs": [
        {
          "output_type": "stream",
          "name": "stderr",
          "text": [
            "/usr/local/lib/python3.7/dist-packages/pandas/core/generic.py:6392: SettingWithCopyWarning: \n",
            "A value is trying to be set on a copy of a slice from a DataFrame\n",
            "\n",
            "See the caveats in the documentation: https://pandas.pydata.org/pandas-docs/stable/user_guide/indexing.html#returning-a-view-versus-a-copy\n",
            "  return self._update_inplace(result)\n"
          ]
        }
      ]
    },
    {
      "cell_type": "code",
      "source": [
        "df2.isnull().sum()"
      ],
      "metadata": {
        "colab": {
          "base_uri": "https://localhost:8080/"
        },
        "id": "PJ0vG1MivOSU",
        "outputId": "4e08b285-d8dd-4c68-a109-bd5be532b015"
      },
      "execution_count": 195,
      "outputs": [
        {
          "output_type": "execute_result",
          "data": {
            "text/plain": [
              "Make                   0\n",
              "Model                  0\n",
              "Variant                0\n",
              "Displacement           0\n",
              "Ex-Showroom_Price      0\n",
              "Cylinders              0\n",
              "Valves_Per_Cylinder    0\n",
              "Emission_Norm          0\n",
              "Fuel_Type              0\n",
              "Body_Type              0\n",
              "City_Mileage           0\n",
              "Power                  0\n",
              "Torque                 2\n",
              "Seating_Capacity       0\n",
              "Boot_Space             9\n",
              "Number_of_Airbags      0\n",
              "dtype: int64"
            ]
          },
          "metadata": {},
          "execution_count": 195
        }
      ]
    },
    {
      "cell_type": "code",
      "source": [
        "df2.Number_of_Airbags.describe()"
      ],
      "metadata": {
        "colab": {
          "base_uri": "https://localhost:8080/"
        },
        "id": "mR8_7LoKvRvl",
        "outputId": "65010560-8de3-4ff2-ab3e-b9e4aab72b47"
      },
      "execution_count": 196,
      "outputs": [
        {
          "output_type": "execute_result",
          "data": {
            "text/plain": [
              "count    1276.000000\n",
              "mean        3.809561\n",
              "std         2.386025\n",
              "min         1.000000\n",
              "25%         2.000000\n",
              "50%         2.000000\n",
              "75%         6.000000\n",
              "max        14.000000\n",
              "Name: Number_of_Airbags, dtype: float64"
            ]
          },
          "metadata": {},
          "execution_count": 196
        }
      ]
    },
    {
      "cell_type": "code",
      "source": [
        "df2.isnull().sum()"
      ],
      "metadata": {
        "colab": {
          "base_uri": "https://localhost:8080/"
        },
        "id": "5BHpixE-wyZ5",
        "outputId": "466f0602-c024-4234-dcda-7b6e3a72a95d"
      },
      "execution_count": 197,
      "outputs": [
        {
          "output_type": "execute_result",
          "data": {
            "text/plain": [
              "Make                   0\n",
              "Model                  0\n",
              "Variant                0\n",
              "Displacement           0\n",
              "Ex-Showroom_Price      0\n",
              "Cylinders              0\n",
              "Valves_Per_Cylinder    0\n",
              "Emission_Norm          0\n",
              "Fuel_Type              0\n",
              "Body_Type              0\n",
              "City_Mileage           0\n",
              "Power                  0\n",
              "Torque                 2\n",
              "Seating_Capacity       0\n",
              "Boot_Space             9\n",
              "Number_of_Airbags      0\n",
              "dtype: int64"
            ]
          },
          "metadata": {},
          "execution_count": 197
        }
      ]
    },
    {
      "cell_type": "code",
      "source": [
        "df2.describe()"
      ],
      "metadata": {
        "colab": {
          "base_uri": "https://localhost:8080/",
          "height": 300
        },
        "id": "zPL0VDuNyi1a",
        "outputId": "0a7217e8-1b4c-4696-b5aa-e85eb5b8eb74"
      },
      "execution_count": 198,
      "outputs": [
        {
          "output_type": "execute_result",
          "data": {
            "text/plain": [
              "       Displacement  Ex-Showroom_Price    Cylinders  Valves_Per_Cylinder  \\\n",
              "count   1276.000000       1.276000e+03  1276.000000          1276.000000   \n",
              "mean    1852.580721       4.596538e+06     4.361285             3.979624   \n",
              "std     1060.065281       1.214735e+07     1.619598             0.799740   \n",
              "min       72.000000       2.364470e+05     2.000000             1.000000   \n",
              "25%     1198.000000       7.438760e+05     4.000000             4.000000   \n",
              "50%     1497.000000       1.060064e+06     4.000000             4.000000   \n",
              "75%     1998.000000       2.979828e+06     4.000000             4.000000   \n",
              "max     7993.000000       2.121554e+08    16.000000            16.000000   \n",
              "\n",
              "       City_Mileage   Boot_Space  Number_of_Airbags  \n",
              "count   1276.000000  1267.000000        1276.000000  \n",
              "mean      42.183911   373.999605           3.809561  \n",
              "std      728.205708   163.426823           2.386025  \n",
              "min        2.000000    20.000000           1.000000  \n",
              "25%       14.500000   295.000000           2.000000  \n",
              "50%       23.840000   339.000000           2.000000  \n",
              "75%       28.860000   460.000000           6.000000  \n",
              "max    26032.000000  1761.000000          14.000000  "
            ],
            "text/html": [
              "\n",
              "  <div id=\"df-f3eb4378-fb87-47f1-97aa-7f7376958af0\">\n",
              "    <div class=\"colab-df-container\">\n",
              "      <div>\n",
              "<style scoped>\n",
              "    .dataframe tbody tr th:only-of-type {\n",
              "        vertical-align: middle;\n",
              "    }\n",
              "\n",
              "    .dataframe tbody tr th {\n",
              "        vertical-align: top;\n",
              "    }\n",
              "\n",
              "    .dataframe thead th {\n",
              "        text-align: right;\n",
              "    }\n",
              "</style>\n",
              "<table border=\"1\" class=\"dataframe\">\n",
              "  <thead>\n",
              "    <tr style=\"text-align: right;\">\n",
              "      <th></th>\n",
              "      <th>Displacement</th>\n",
              "      <th>Ex-Showroom_Price</th>\n",
              "      <th>Cylinders</th>\n",
              "      <th>Valves_Per_Cylinder</th>\n",
              "      <th>City_Mileage</th>\n",
              "      <th>Boot_Space</th>\n",
              "      <th>Number_of_Airbags</th>\n",
              "    </tr>\n",
              "  </thead>\n",
              "  <tbody>\n",
              "    <tr>\n",
              "      <th>count</th>\n",
              "      <td>1276.000000</td>\n",
              "      <td>1.276000e+03</td>\n",
              "      <td>1276.000000</td>\n",
              "      <td>1276.000000</td>\n",
              "      <td>1276.000000</td>\n",
              "      <td>1267.000000</td>\n",
              "      <td>1276.000000</td>\n",
              "    </tr>\n",
              "    <tr>\n",
              "      <th>mean</th>\n",
              "      <td>1852.580721</td>\n",
              "      <td>4.596538e+06</td>\n",
              "      <td>4.361285</td>\n",
              "      <td>3.979624</td>\n",
              "      <td>42.183911</td>\n",
              "      <td>373.999605</td>\n",
              "      <td>3.809561</td>\n",
              "    </tr>\n",
              "    <tr>\n",
              "      <th>std</th>\n",
              "      <td>1060.065281</td>\n",
              "      <td>1.214735e+07</td>\n",
              "      <td>1.619598</td>\n",
              "      <td>0.799740</td>\n",
              "      <td>728.205708</td>\n",
              "      <td>163.426823</td>\n",
              "      <td>2.386025</td>\n",
              "    </tr>\n",
              "    <tr>\n",
              "      <th>min</th>\n",
              "      <td>72.000000</td>\n",
              "      <td>2.364470e+05</td>\n",
              "      <td>2.000000</td>\n",
              "      <td>1.000000</td>\n",
              "      <td>2.000000</td>\n",
              "      <td>20.000000</td>\n",
              "      <td>1.000000</td>\n",
              "    </tr>\n",
              "    <tr>\n",
              "      <th>25%</th>\n",
              "      <td>1198.000000</td>\n",
              "      <td>7.438760e+05</td>\n",
              "      <td>4.000000</td>\n",
              "      <td>4.000000</td>\n",
              "      <td>14.500000</td>\n",
              "      <td>295.000000</td>\n",
              "      <td>2.000000</td>\n",
              "    </tr>\n",
              "    <tr>\n",
              "      <th>50%</th>\n",
              "      <td>1497.000000</td>\n",
              "      <td>1.060064e+06</td>\n",
              "      <td>4.000000</td>\n",
              "      <td>4.000000</td>\n",
              "      <td>23.840000</td>\n",
              "      <td>339.000000</td>\n",
              "      <td>2.000000</td>\n",
              "    </tr>\n",
              "    <tr>\n",
              "      <th>75%</th>\n",
              "      <td>1998.000000</td>\n",
              "      <td>2.979828e+06</td>\n",
              "      <td>4.000000</td>\n",
              "      <td>4.000000</td>\n",
              "      <td>28.860000</td>\n",
              "      <td>460.000000</td>\n",
              "      <td>6.000000</td>\n",
              "    </tr>\n",
              "    <tr>\n",
              "      <th>max</th>\n",
              "      <td>7993.000000</td>\n",
              "      <td>2.121554e+08</td>\n",
              "      <td>16.000000</td>\n",
              "      <td>16.000000</td>\n",
              "      <td>26032.000000</td>\n",
              "      <td>1761.000000</td>\n",
              "      <td>14.000000</td>\n",
              "    </tr>\n",
              "  </tbody>\n",
              "</table>\n",
              "</div>\n",
              "      <button class=\"colab-df-convert\" onclick=\"convertToInteractive('df-f3eb4378-fb87-47f1-97aa-7f7376958af0')\"\n",
              "              title=\"Convert this dataframe to an interactive table.\"\n",
              "              style=\"display:none;\">\n",
              "        \n",
              "  <svg xmlns=\"http://www.w3.org/2000/svg\" height=\"24px\"viewBox=\"0 0 24 24\"\n",
              "       width=\"24px\">\n",
              "    <path d=\"M0 0h24v24H0V0z\" fill=\"none\"/>\n",
              "    <path d=\"M18.56 5.44l.94 2.06.94-2.06 2.06-.94-2.06-.94-.94-2.06-.94 2.06-2.06.94zm-11 1L8.5 8.5l.94-2.06 2.06-.94-2.06-.94L8.5 2.5l-.94 2.06-2.06.94zm10 10l.94 2.06.94-2.06 2.06-.94-2.06-.94-.94-2.06-.94 2.06-2.06.94z\"/><path d=\"M17.41 7.96l-1.37-1.37c-.4-.4-.92-.59-1.43-.59-.52 0-1.04.2-1.43.59L10.3 9.45l-7.72 7.72c-.78.78-.78 2.05 0 2.83L4 21.41c.39.39.9.59 1.41.59.51 0 1.02-.2 1.41-.59l7.78-7.78 2.81-2.81c.8-.78.8-2.07 0-2.86zM5.41 20L4 18.59l7.72-7.72 1.47 1.35L5.41 20z\"/>\n",
              "  </svg>\n",
              "      </button>\n",
              "      \n",
              "  <style>\n",
              "    .colab-df-container {\n",
              "      display:flex;\n",
              "      flex-wrap:wrap;\n",
              "      gap: 12px;\n",
              "    }\n",
              "\n",
              "    .colab-df-convert {\n",
              "      background-color: #E8F0FE;\n",
              "      border: none;\n",
              "      border-radius: 50%;\n",
              "      cursor: pointer;\n",
              "      display: none;\n",
              "      fill: #1967D2;\n",
              "      height: 32px;\n",
              "      padding: 0 0 0 0;\n",
              "      width: 32px;\n",
              "    }\n",
              "\n",
              "    .colab-df-convert:hover {\n",
              "      background-color: #E2EBFA;\n",
              "      box-shadow: 0px 1px 2px rgba(60, 64, 67, 0.3), 0px 1px 3px 1px rgba(60, 64, 67, 0.15);\n",
              "      fill: #174EA6;\n",
              "    }\n",
              "\n",
              "    [theme=dark] .colab-df-convert {\n",
              "      background-color: #3B4455;\n",
              "      fill: #D2E3FC;\n",
              "    }\n",
              "\n",
              "    [theme=dark] .colab-df-convert:hover {\n",
              "      background-color: #434B5C;\n",
              "      box-shadow: 0px 1px 3px 1px rgba(0, 0, 0, 0.15);\n",
              "      filter: drop-shadow(0px 1px 2px rgba(0, 0, 0, 0.3));\n",
              "      fill: #FFFFFF;\n",
              "    }\n",
              "  </style>\n",
              "\n",
              "      <script>\n",
              "        const buttonEl =\n",
              "          document.querySelector('#df-f3eb4378-fb87-47f1-97aa-7f7376958af0 button.colab-df-convert');\n",
              "        buttonEl.style.display =\n",
              "          google.colab.kernel.accessAllowed ? 'block' : 'none';\n",
              "\n",
              "        async function convertToInteractive(key) {\n",
              "          const element = document.querySelector('#df-f3eb4378-fb87-47f1-97aa-7f7376958af0');\n",
              "          const dataTable =\n",
              "            await google.colab.kernel.invokeFunction('convertToInteractive',\n",
              "                                                     [key], {});\n",
              "          if (!dataTable) return;\n",
              "\n",
              "          const docLinkHtml = 'Like what you see? Visit the ' +\n",
              "            '<a target=\"_blank\" href=https://colab.research.google.com/notebooks/data_table.ipynb>data table notebook</a>'\n",
              "            + ' to learn more about interactive tables.';\n",
              "          element.innerHTML = '';\n",
              "          dataTable['output_type'] = 'display_data';\n",
              "          await google.colab.output.renderOutput(dataTable, element);\n",
              "          const docLink = document.createElement('div');\n",
              "          docLink.innerHTML = docLinkHtml;\n",
              "          element.appendChild(docLink);\n",
              "        }\n",
              "      </script>\n",
              "    </div>\n",
              "  </div>\n",
              "  "
            ]
          },
          "metadata": {},
          "execution_count": 198
        }
      ]
    },
    {
      "cell_type": "markdown",
      "source": [
        "**Plotting the Data**"
      ],
      "metadata": {
        "id": "q7ErULTN4HUF"
      }
    },
    {
      "cell_type": "code",
      "source": [
        "from sklearn.preprocessing import OneHotEncoder,LabelEncoder\n",
        "import matplotlib.pyplot as plt\n",
        "import seaborn as sea"
      ],
      "metadata": {
        "id": "ihaBoc7J_bhh"
      },
      "execution_count": 199,
      "outputs": []
    },
    {
      "cell_type": "code",
      "source": [
        "le=LabelEncoder()"
      ],
      "metadata": {
        "id": "HKVM3GpLBPdB"
      },
      "execution_count": 200,
      "outputs": []
    },
    {
      "cell_type": "markdown",
      "source": [
        "Encoding Columns using Label Encoder"
      ],
      "metadata": {
        "id": "gy8zzLEW4MzF"
      }
    },
    {
      "cell_type": "code",
      "source": [
        "df2['Make_LE']=le.fit_transform(df2['Make'])\n",
        "df2['Model_LE']=le.fit_transform(df2['Model'])\n",
        "df2['Body_type_LE']=le.fit_transform(df2['Body_Type'])\n",
        "df2['Power_LE']=le.fit_transform(df2['Power'])\n",
        "df2['Torque_LE']=le.fit_transform(df2['Torque'])\n",
        "df2['Fuel_Type_LE']=le.fit_transform(df2['Fuel_Type'])"
      ],
      "metadata": {
        "colab": {
          "base_uri": "https://localhost:8080/"
        },
        "id": "01hqiAObylBo",
        "outputId": "a4388a41-84c6-4814-98a8-664ffaf474a6"
      },
      "execution_count": 201,
      "outputs": [
        {
          "output_type": "stream",
          "name": "stderr",
          "text": [
            "/usr/local/lib/python3.7/dist-packages/ipykernel_launcher.py:1: SettingWithCopyWarning: \n",
            "A value is trying to be set on a copy of a slice from a DataFrame.\n",
            "Try using .loc[row_indexer,col_indexer] = value instead\n",
            "\n",
            "See the caveats in the documentation: https://pandas.pydata.org/pandas-docs/stable/user_guide/indexing.html#returning-a-view-versus-a-copy\n",
            "  \"\"\"Entry point for launching an IPython kernel.\n",
            "/usr/local/lib/python3.7/dist-packages/ipykernel_launcher.py:2: SettingWithCopyWarning: \n",
            "A value is trying to be set on a copy of a slice from a DataFrame.\n",
            "Try using .loc[row_indexer,col_indexer] = value instead\n",
            "\n",
            "See the caveats in the documentation: https://pandas.pydata.org/pandas-docs/stable/user_guide/indexing.html#returning-a-view-versus-a-copy\n",
            "  \n",
            "/usr/local/lib/python3.7/dist-packages/ipykernel_launcher.py:3: SettingWithCopyWarning: \n",
            "A value is trying to be set on a copy of a slice from a DataFrame.\n",
            "Try using .loc[row_indexer,col_indexer] = value instead\n",
            "\n",
            "See the caveats in the documentation: https://pandas.pydata.org/pandas-docs/stable/user_guide/indexing.html#returning-a-view-versus-a-copy\n",
            "  This is separate from the ipykernel package so we can avoid doing imports until\n",
            "/usr/local/lib/python3.7/dist-packages/ipykernel_launcher.py:4: SettingWithCopyWarning: \n",
            "A value is trying to be set on a copy of a slice from a DataFrame.\n",
            "Try using .loc[row_indexer,col_indexer] = value instead\n",
            "\n",
            "See the caveats in the documentation: https://pandas.pydata.org/pandas-docs/stable/user_guide/indexing.html#returning-a-view-versus-a-copy\n",
            "  after removing the cwd from sys.path.\n",
            "/usr/local/lib/python3.7/dist-packages/ipykernel_launcher.py:5: SettingWithCopyWarning: \n",
            "A value is trying to be set on a copy of a slice from a DataFrame.\n",
            "Try using .loc[row_indexer,col_indexer] = value instead\n",
            "\n",
            "See the caveats in the documentation: https://pandas.pydata.org/pandas-docs/stable/user_guide/indexing.html#returning-a-view-versus-a-copy\n",
            "  \"\"\"\n",
            "/usr/local/lib/python3.7/dist-packages/ipykernel_launcher.py:6: SettingWithCopyWarning: \n",
            "A value is trying to be set on a copy of a slice from a DataFrame.\n",
            "Try using .loc[row_indexer,col_indexer] = value instead\n",
            "\n",
            "See the caveats in the documentation: https://pandas.pydata.org/pandas-docs/stable/user_guide/indexing.html#returning-a-view-versus-a-copy\n",
            "  \n"
          ]
        }
      ]
    },
    {
      "cell_type": "code",
      "source": [
        "df2.Model.value_counts()"
      ],
      "metadata": {
        "colab": {
          "base_uri": "https://localhost:8080/"
        },
        "id": "KbXYCFWm_0rC",
        "outputId": "a8e71c3e-1298-4446-c3d9-7296b9fd8b6e"
      },
      "execution_count": 202,
      "outputs": [
        {
          "output_type": "execute_result",
          "data": {
            "text/plain": [
              "Nexon                              24\n",
              "Kuv100 Nxt                         22\n",
              "Compass                            21\n",
              "Xuv500                             21\n",
              "Amaze                              20\n",
              "                                   ..\n",
              "Lc 500H                             1\n",
              "Lx 450D                             1\n",
              "Mercedes-Benz S-Class Cabriolet     1\n",
              "R8                                  1\n",
              "Montero                             1\n",
              "Name: Model, Length: 263, dtype: int64"
            ]
          },
          "metadata": {},
          "execution_count": 202
        }
      ]
    },
    {
      "cell_type": "code",
      "source": [
        "df2.columns"
      ],
      "metadata": {
        "colab": {
          "base_uri": "https://localhost:8080/"
        },
        "id": "gEbRu4yiBXBu",
        "outputId": "ca1977f4-d7bc-4187-d201-7c19ebbc5635"
      },
      "execution_count": 203,
      "outputs": [
        {
          "output_type": "execute_result",
          "data": {
            "text/plain": [
              "Index(['Make', 'Model', 'Variant', 'Displacement', 'Ex-Showroom_Price',\n",
              "       'Cylinders', 'Valves_Per_Cylinder', 'Emission_Norm', 'Fuel_Type',\n",
              "       'Body_Type', 'City_Mileage', 'Power', 'Torque', 'Seating_Capacity',\n",
              "       'Boot_Space', 'Number_of_Airbags', 'Make_LE', 'Model_LE',\n",
              "       'Body_type_LE', 'Power_LE', 'Torque_LE', 'Fuel_Type_LE'],\n",
              "      dtype='object')"
            ]
          },
          "metadata": {},
          "execution_count": 203
        }
      ]
    },
    {
      "cell_type": "code",
      "source": [
        "x=df2['Model'].value_counts().head(25).plot(kind='bar',figsize=(30, 15))\n",
        "x.set_xlabel(\"Name of Model\")\n",
        "x.set_ylabel(\"Number of Cars\")"
      ],
      "metadata": {
        "colab": {
          "base_uri": "https://localhost:8080/",
          "height": 625
        },
        "id": "xxAw8fpLBy1-",
        "outputId": "58e331d8-e9d4-48f6-e97d-5cff83bf6d13"
      },
      "execution_count": 204,
      "outputs": [
        {
          "output_type": "execute_result",
          "data": {
            "text/plain": [
              "Text(0, 0.5, 'Number of Cars')"
            ]
          },
          "metadata": {},
          "execution_count": 204
        },
        {
          "output_type": "display_data",
          "data": {
            "text/plain": [
              "<Figure size 2160x1080 with 1 Axes>"
            ],
            "image/png": "[encoded data removed]"
          },
          "metadata": {
            "needs_background": "light"
          }
        }
      ]
    },
    {
      "cell_type": "markdown",
      "source": [
        "**Most common car is Nexon**"
      ],
      "metadata": {
        "id": "hFHW1WaI4azl"
      }
    },
    {
      "cell_type": "code",
      "source": [
        "cylinder_plot=df2['Cylinders'].value_counts().head(25).plot(kind='bar',figsize=(10, 5),color='black')\n",
        "cylinder_plot.set_xlabel('Count')\n",
        "cylinder_plot.set_ylabel('Number of Cylinder')"
      ],
      "metadata": {
        "colab": {
          "base_uri": "https://localhost:8080/",
          "height": 363
        },
        "id": "Gw8pOQidDKiG",
        "outputId": "dea7f42e-bf98-4ea7-e0de-56d3d590115f"
      },
      "execution_count": 205,
      "outputs": [
        {
          "output_type": "execute_result",
          "data": {
            "text/plain": [
              "Text(0, 0.5, 'Number of Cylinder')"
            ]
          },
          "metadata": {},
          "execution_count": 205
        },
        {
          "output_type": "display_data",
          "data": {
            "text/plain": [
              "<Figure size 720x360 with 1 Axes>"
            ],
            "image/png": "[encoded data removed]"
          },
          "metadata": {
            "needs_background": "light"
          }
        }
      ]
    },
    {
      "cell_type": "code",
      "source": [
        "emission_plot=df2['Emission_Norm'].value_counts().head(25).plot(kind='bar',figsize=(10, 5),color='black')\n",
        "emission_plot.set_xlabel('Count')\n",
        "emission_plot.set_ylabel('Emission Type')\n"
      ],
      "metadata": {
        "colab": {
          "base_uri": "https://localhost:8080/",
          "height": 367
        },
        "id": "9TxLtXWwIp-w",
        "outputId": "f2ca3e5a-6692-481e-e3f2-575abe8c68f7"
      },
      "execution_count": 206,
      "outputs": [
        {
          "output_type": "execute_result",
          "data": {
            "text/plain": [
              "Text(0, 0.5, 'Emission Type')"
            ]
          },
          "metadata": {},
          "execution_count": 206
        },
        {
          "output_type": "display_data",
          "data": {
            "text/plain": [
              "<Figure size 720x360 with 1 Axes>"
            ],
            "image/png": "[encoded data removed]"
          },
          "metadata": {
            "needs_background": "light"
          }
        }
      ]
    },
    {
      "cell_type": "markdown",
      "source": [
        "Current BSV standard is shifting from BSV4 to BSV6 as BSV6 Keeing in mind the affect on environment"
      ],
      "metadata": {
        "id": "dlMzBm674tDO"
      }
    },
    {
      "cell_type": "code",
      "source": [
        "body_plot=df2['Body_Type'].value_counts().head(25).plot(kind='bar',figsize=(10, 5),color='black')\n",
        "body_plot.set_xlabel('Count')\n",
        "body_plot.set_ylabel('Body Type')"
      ],
      "metadata": {
        "colab": {
          "base_uri": "https://localhost:8080/",
          "height": 436
        },
        "id": "60M6n4aAHtNz",
        "outputId": "5b2f1d1c-f041-452e-e501-28cf86e422b0"
      },
      "execution_count": 207,
      "outputs": [
        {
          "output_type": "execute_result",
          "data": {
            "text/plain": [
              "Text(0, 0.5, 'Body Type')"
            ]
          },
          "metadata": {},
          "execution_count": 207
        },
        {
          "output_type": "display_data",
          "data": {
            "text/plain": [
              "<Figure size 720x360 with 1 Axes>"
            ],
            "image/png": "[encoded data removed]"
          },
          "metadata": {
            "needs_background": "light"
          }
        }
      ]
    },
    {
      "cell_type": "markdown",
      "source": [
        "SUV and Sedan are most bought type of cars"
      ],
      "metadata": {
        "id": "iwuNKp5048DY"
      }
    },
    {
      "cell_type": "code",
      "source": [
        "bins=[100000,200000,300000,400000,500000,600000,700000,800000,900000,1000000,1100000,1200000,1300000,1400000,1500000,1600000,1700000,1800000,1900000,2000000]\n",
        "plt.hist(df2['Ex-Showroom_Price'],bins,histtype='bar',rwidth=0.6,color='b')\n",
        "plt.xlabel('Ex-Showroom Price')\n",
        "plt.ylabel('Cars Name')\n",
        "\n",
        "plt.show()"
      ],
      "metadata": {
        "colab": {
          "base_uri": "https://localhost:8080/",
          "height": 279
        },
        "id": "qLWrsyBVIsfg",
        "outputId": "01279d99-1bf3-4e0b-8bda-900ad6c42b64"
      },
      "execution_count": 208,
      "outputs": [
        {
          "output_type": "display_data",
          "data": {
            "text/plain": [
              "<Figure size 432x288 with 1 Axes>"
            ],
            "image/png": "[encoded data removed]"
          },
          "metadata": {
            "needs_background": "light"
          }
        }
      ]
    },
    {
      "cell_type": "code",
      "source": [
        "fuel_plot=df2['Fuel_Type'].value_counts().plot(kind='bar',figsize=(10, 5),color='black')\n",
        "fuel_plot.set_xlabel('Count')\n",
        "fuel_plot.set_ylabel('Fuel Type')"
      ],
      "metadata": {
        "colab": {
          "base_uri": "https://localhost:8080/",
          "height": 406
        },
        "id": "0wp8kx_aJEGF",
        "outputId": "955ee0b5-06b7-40e7-e71c-355e6bfcb118"
      },
      "execution_count": 209,
      "outputs": [
        {
          "output_type": "execute_result",
          "data": {
            "text/plain": [
              "Text(0, 0.5, 'Fuel Type')"
            ]
          },
          "metadata": {},
          "execution_count": 209
        },
        {
          "output_type": "display_data",
          "data": {
            "text/plain": [
              "<Figure size 720x360 with 1 Axes>"
            ],
            "image/png": "[encoded data removed]"
          },
          "metadata": {
            "needs_background": "light"
          }
        }
      ]
    },
    {
      "cell_type": "markdown",
      "source": [
        "Petrol and Diesel have almost same sales and no other fuel type is as prevelant"
      ],
      "metadata": {
        "id": "Hs7GLncW5BvF"
      }
    },
    {
      "cell_type": "code",
      "source": [
        "corr = df2.corr()\n",
        "plt.figure(figsize=(20,10))\n",
        "a = sea.heatmap(corr, annot=True, fmt='.2f', cmap=\"YlGnBu\")"
      ],
      "metadata": {
        "colab": {
          "base_uri": "https://localhost:8080/",
          "height": 673
        },
        "id": "qGao7hDlJnuB",
        "outputId": "d84aab80-305a-488e-aa8b-538310d79302"
      },
      "execution_count": 210,
      "outputs": [
        {
          "output_type": "display_data",
          "data": {
            "text/plain": [
              "<Figure size 1440x720 with 2 Axes>"
            ],
            "image/png": "[encoded data removed]"
          },
          "metadata": {
            "needs_background": "light"
          }
        }
      ]
    },
    {
      "cell_type": "markdown",
      "source": [
        "The following conclusions can be made\n",
        "\n",
        "> \n",
        "1.   Number of Airbags in the car is one attribute which does affect car sales due to safety it provides.\n",
        "2.   The same is related to size of car.\n",
        "3.   Torque , Cylinders and Displacement are closely related.\n",
        "4.   Displacement has high affect on car price. This can be due to the fact that many SUV require powerful engines and Engine Displacement is a direct measure of that and SUV are most bought cars in the data.    \n",
        "\n",
        "\n",
        "\n",
        "\n",
        "\n",
        "\n"
      ],
      "metadata": {
        "id": "ss4g-pFl5KuO"
      }
    },
    {
      "cell_type": "code",
      "source": [
        ""
      ],
      "metadata": {
        "id": "Bg5k0EAv0bJl"
      },
      "execution_count": null,
      "outputs": []
    }
  ]
}